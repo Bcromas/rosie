{
 "cells": [
  {
   "cell_type": "markdown",
   "metadata": {},
   "source": [
    "# <font color='magenta'>EDA on Reddit 1% Sample </font>"
   ]
  },
  {
   "cell_type": "code",
   "execution_count": 25,
   "metadata": {},
   "outputs": [
    {
     "ename": "ImportError",
     "evalue": "No module named 'pandas'",
     "output_type": "error",
     "traceback": [
      "\u001b[0;31m---------------------------------------------------------------------------\u001b[0m",
      "\u001b[0;31mImportError\u001b[0m                               Traceback (most recent call last)",
      "\u001b[0;32m<ipython-input-25-7dd3504c366f>\u001b[0m in \u001b[0;36m<module>\u001b[0;34m()\u001b[0m\n\u001b[0;32m----> 1\u001b[0;31m \u001b[0;32mimport\u001b[0m \u001b[0mpandas\u001b[0m \u001b[0;32mas\u001b[0m \u001b[0mpd\u001b[0m\u001b[0;34m\u001b[0m\u001b[0m\n\u001b[0m",
      "\u001b[0;31mImportError\u001b[0m: No module named 'pandas'"
     ]
    }
   ],
   "source": [
    "import pandas as pd"
   ]
  },
  {
   "cell_type": "code",
   "execution_count": 24,
   "metadata": {},
   "outputs": [
    {
     "name": "stdout",
     "output_type": "stream",
     "text": [
      "Requirement already satisfied: pandas in ./.local/lib/python3.4/site-packages (0.22.0)\n",
      "Requirement already satisfied: python-dateutil>=2 in /usr/lib/python3.4/site-packages (from pandas) (2.8.1)\n",
      "Requirement already satisfied: pytz>=2011k in ./.local/lib/python3.4/site-packages (from pandas) (2020.1)\n",
      "Requirement already satisfied: numpy>=1.9.0 in /usr/lib64/python3.4/site-packages (from pandas) (1.12.1)\n",
      "Requirement already satisfied: six>=1.5 in /usr/lib/python3.4/site-packages (from python-dateutil>=2->pandas) (1.15.0)\n",
      "\u001b[33mYou are using pip version 18.1, however version 19.1.1 is available.\n",
      "You should consider upgrading via the 'pip install --upgrade pip' command.\u001b[0m\n"
     ]
    }
   ],
   "source": [
    "!pip install --user pandas"
   ]
  },
  {
   "cell_type": "code",
   "execution_count": 3,
   "metadata": {},
   "outputs": [],
   "source": [
    "one_perct_df = spark.read.parquet(\"one_perct_sample.parquet\")"
   ]
  },
  {
   "cell_type": "markdown",
   "metadata": {},
   "source": [
    "> The data is a one percent sample from the Reddit parquet file containing +2.8 billion records.\n",
    "> The records are posts/Submissions (in PRAW). This is evident due to the existence of 'num_comments', 'name', 'locked' & other attributes that are common to posts/Submissions "
   ]
  },
  {
   "cell_type": "code",
   "execution_count": 4,
   "metadata": {},
   "outputs": [
    {
     "data": {
      "text/plain": [
       "309811130"
      ]
     },
     "execution_count": 4,
     "metadata": {},
     "output_type": "execute_result"
    }
   ],
   "source": [
    "one_perct_df.count() #~300+ million"
   ]
  },
  {
   "cell_type": "code",
   "execution_count": 5,
   "metadata": {},
   "outputs": [
    {
     "name": "stdout",
     "output_type": "stream",
     "text": [
      "+----------------+--------+\n",
      "|created_utc_year|   count|\n",
      "+----------------+--------+\n",
      "|            2005|     121|\n",
      "|            2006|   49806|\n",
      "|            2007|  295787|\n",
      "|            2008|  869100|\n",
      "|            2009| 2267457|\n",
      "|            2010| 5823105|\n",
      "|            2011|14809391|\n",
      "|            2012|31257433|\n",
      "|            2013|48294467|\n",
      "|            2014|63861731|\n",
      "|            2015|80257957|\n",
      "|            2016|62024775|\n",
      "+----------------+--------+\n",
      "\n",
      "CPU times: user 7.22 ms, sys: 9.85 ms, total: 17.1 ms\n",
      "Wall time: 9.04 s\n"
     ]
    }
   ],
   "source": [
    "%%time\n",
    "one_perct_df.groupby(\"created_utc_year\").count().orderBy(\"created_utc_year\").show()"
   ]
  },
  {
   "cell_type": "markdown",
   "metadata": {},
   "source": [
    "> This 1% stratified sample is off by ~10%. The actual yearly counts in the sample are greater than the expected yearly counts by an order of magnitude."
   ]
  },
  {
   "cell_type": "markdown",
   "metadata": {},
   "source": [
    "# <font color='magenta'>Subreddits"
   ]
  },
  {
   "cell_type": "code",
   "execution_count": 28,
   "metadata": {},
   "outputs": [],
   "source": [
    "from pyspark.sql.functions import from_unixtime"
   ]
  },
  {
   "cell_type": "code",
   "execution_count": 29,
   "metadata": {},
   "outputs": [],
   "source": [
    "one_perct_df = one_perct_df.withColumn(\n",
    "    \"created_utc_yearMonthDay\", \n",
    "    from_unixtime(\n",
    "        one_perct_df[\"created_utc\"], \n",
    "        \"yyyy-MM-dd\" # full timestamp: yyyy-MM-dd HH:mm:ss.SS\n",
    "    )\n",
    ")"
   ]
  },
  {
   "cell_type": "code",
   "execution_count": 30,
   "metadata": {},
   "outputs": [],
   "source": [
    "from pyspark.sql.functions import length"
   ]
  },
  {
   "cell_type": "code",
   "execution_count": 31,
   "metadata": {},
   "outputs": [],
   "source": [
    "one_perct_df = one_perct_df.withColumn(\n",
    "    \"body_len\",\n",
    "    length(one_perct_df[\"body\"])\n",
    ")"
   ]
  },
  {
   "cell_type": "code",
   "execution_count": 32,
   "metadata": {},
   "outputs": [
    {
     "name": "stdout",
     "output_type": "stream",
     "text": [
      "+---------------+------------------+\n",
      "|      subreddit|        avg(count)|\n",
      "+---------------+------------------+\n",
      "|      AskReddit| 9625.758874320434|\n",
      "|          funny|2303.9110468850354|\n",
      "|leagueoflegends|2222.1374468085105|\n",
      "|           pics|2138.2788033099937|\n",
      "|  AdviceAnimals|1866.3457497612226|\n",
      "|     The_Donald|1725.2114882506528|\n",
      "|            nfl|1411.4748329621382|\n",
      "|         gaming|1408.0648119841028|\n",
      "|       politics|1341.2522631261315|\n",
      "|   pcmasterrace|1336.1035767511178|\n",
      "+---------------+------------------+\n",
      "only showing top 10 rows\n",
      "\n",
      "CPU times: user 21 ms, sys: 3.3 ms, total: 24.3 ms\n",
      "Wall time: 44.5 s\n"
     ]
    }
   ],
   "source": [
    "%%time\n",
    "yearsMonthDay_df = one_perct_df.groupby([\"subreddit\",\"created_utc_yearMonthDay\"]).count()\n",
    "\n",
    "avg_post_df = yearsMonthDay_df.groupby(\"subreddit\").avg()\n",
    "avg_post_df.orderBy(\"avg(count)\", ascending = False).show(10)"
   ]
  },
  {
   "cell_type": "markdown",
   "metadata": {},
   "source": [
    "> Average number of posts/Submissions per Subreddit."
   ]
  },
  {
   "cell_type": "code",
   "execution_count": 33,
   "metadata": {},
   "outputs": [
    {
     "name": "stdout",
     "output_type": "stream",
     "text": [
      "+-----------------+----------+\n",
      "|        subreddit|max(count)|\n",
      "+-----------------+----------+\n",
      "|        AskReddit|     25487|\n",
      "|         politics|     18517|\n",
      "|              nfl|     14949|\n",
      "|           gaming|     13775|\n",
      "|     pcmasterrace|     13304|\n",
      "|millionairemakers|     12874|\n",
      "|             news|     12298|\n",
      "|              nba|     12160|\n",
      "|    SquaredCircle|     12033|\n",
      "|              CFB|     11263|\n",
      "+-----------------+----------+\n",
      "only showing top 10 rows\n",
      "\n",
      "CPU times: user 8.01 ms, sys: 8.35 ms, total: 16.4 ms\n",
      "Wall time: 17.6 s\n"
     ]
    }
   ],
   "source": [
    "%%time\n",
    "max_post_df = yearsMonthDay_df.groupby(\"subreddit\").max()\n",
    "max_post_df.orderBy(\"max(count)\", ascending = False).show(10)"
   ]
  },
  {
   "cell_type": "code",
   "execution_count": 34,
   "metadata": {},
   "outputs": [],
   "source": [
    "these_subreddits = [\n",
    "    \"worldnews\", \"news\", \"AskCulinary\",\n",
    "    \"AskHistorians\", \"howto\", \"todayilearned\",\n",
    "    \"conspiracy\", \"MilitaryConspiracy\", \"PedoGate\",\n",
    "    \"FalseFlagWatch\", \"skeptic\", \"politicalfactchecking\",\n",
    "    \"MensRights\", \"MRActivism\", \"glasgow\",\n",
    "    \"melbourne\", \"travel\", \"photography\"\n",
    "]"
   ]
  },
  {
   "cell_type": "code",
   "execution_count": 49,
   "metadata": {},
   "outputs": [],
   "source": [
    "subreddits_df = yearsMonthDay_df.filter(yearsMonthDay_df.subreddit.isin(these_subreddits))"
   ]
  },
  {
   "cell_type": "markdown",
   "metadata": {},
   "source": [
    "## Calculate IQRs for select Subreddits"
   ]
  },
  {
   "cell_type": "code",
   "execution_count": 60,
   "metadata": {},
   "outputs": [],
   "source": [
    "import numpy as np"
   ]
  },
  {
   "cell_type": "code",
   "execution_count": 99,
   "metadata": {},
   "outputs": [],
   "source": [
    "# IQR_arr = np.zeros(shape=[len(these_subreddits), 4])\n",
    "# IQR_arr = np.empty(shape = [len(these_subreddits),4], dtype = 'U, f, f, f')\n",
    "# IQR_arr = np.empty(shape = [0,4], dtype = 'U, f, f, f')"
   ]
  },
  {
   "cell_type": "code",
   "execution_count": 100,
   "metadata": {},
   "outputs": [
    {
     "name": "stdout",
     "output_type": "stream",
     "text": [
      "worldnews [265.0, 758.0, 1844.0]\n",
      "news [41.0, 165.0, 1348.0]\n",
      "AskCulinary [22.0, 30.0, 38.0]\n",
      "AskHistorians [72.0, 91.0, 111.0]\n",
      "howto [3.0, 6.0, 9.0]\n",
      "todayilearned [226.0, 1296.0, 1839.0]\n",
      "conspiracy [29.0, 148.0, 275.0]\n",
      "MilitaryConspiracy [1.0, 1.0, 1.0]\n",
      "PedoGate []\n",
      "FalseFlagWatch [1.0, 1.0, 1.0]\n",
      "skeptic [18.0, 32.0, 46.0]\n",
      "politicalfactchecking [1.0, 2.0, 4.0]\n",
      "MensRights [37.0, 125.0, 180.0]\n",
      "MRActivism [1.0, 1.0, 1.0]\n",
      "glasgow [3.0, 7.0, 13.0]\n",
      "melbourne [15.0, 39.0, 93.0]\n",
      "travel [25.0, 56.0, 86.0]\n",
      "photography [37.0, 94.0, 135.0]\n"
     ]
    }
   ],
   "source": [
    "# counter = 0\n",
    "for entry in these_subreddits:\n",
    "    temp_df = subreddits_df.filter(subreddits_df.subreddit == entry)\n",
    "    IQR_result = temp_df.approxQuantile(col = \"count\", probabilities = [0.25, 0.5, 0.75], relativeError = 0)\n",
    "#         IQR_arr[counter] = entry,IQR_result[0], IQR_result[1], IQR_result[2]\n",
    "#     np.append(IQR_arr,[entry,IQR_result[0], IQR_result[1], IQR_result[2]])\n",
    "    print(entry, IQR_result)\n",
    "#     counter += 1"
   ]
  },
  {
   "cell_type": "code",
   "execution_count": null,
   "metadata": {},
   "outputs": [],
   "source": []
  }
 ],
 "metadata": {
  "kernelspec": {
   "display_name": "Python 3",
   "language": "python",
   "name": "python3"
  },
  "language_info": {
   "codemirror_mode": {
    "name": "ipython",
    "version": 3
   },
   "file_extension": ".py",
   "mimetype": "text/x-python",
   "name": "python",
   "nbconvert_exporter": "python",
   "pygments_lexer": "ipython3",
   "version": "3.4.10"
  }
 },
 "nbformat": 4,
 "nbformat_minor": 2
}
