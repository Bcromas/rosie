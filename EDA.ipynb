{
 "cells": [
  {
   "cell_type": "markdown",
   "metadata": {},
   "source": [
    "# Perform EDA on data captured in DB"
   ]
  },
  {
   "cell_type": "code",
   "execution_count": 5,
   "metadata": {},
   "outputs": [],
   "source": [
    "import pandas as pd"
   ]
  },
  {
   "cell_type": "code",
   "execution_count": 6,
   "metadata": {},
   "outputs": [],
   "source": [
    "comments_df = pd.read_csv(\"data/comments.csv\", index_col=0)"
   ]
  },
  {
   "cell_type": "code",
   "execution_count": 7,
   "metadata": {},
   "outputs": [
    {
     "data": {
      "text/plain": [
       "(4528, 8)"
      ]
     },
     "execution_count": 7,
     "metadata": {},
     "output_type": "execute_result"
    }
   ],
   "source": [
    "comments_df.shape"
   ]
  },
  {
   "cell_type": "code",
   "execution_count": 8,
   "metadata": {},
   "outputs": [
    {
     "data": {
      "text/html": [
       "<div>\n",
       "<style scoped>\n",
       "    .dataframe tbody tr th:only-of-type {\n",
       "        vertical-align: middle;\n",
       "    }\n",
       "\n",
       "    .dataframe tbody tr th {\n",
       "        vertical-align: top;\n",
       "    }\n",
       "\n",
       "    .dataframe thead th {\n",
       "        text-align: right;\n",
       "    }\n",
       "</style>\n",
       "<table border=\"1\" class=\"dataframe\">\n",
       "  <thead>\n",
       "    <tr style=\"text-align: right;\">\n",
       "      <th></th>\n",
       "      <th>insert_update_ts</th>\n",
       "      <th>id</th>\n",
       "      <th>link_id</th>\n",
       "      <th>author</th>\n",
       "      <th>body</th>\n",
       "      <th>score</th>\n",
       "      <th>permalink</th>\n",
       "      <th>retrieved</th>\n",
       "    </tr>\n",
       "  </thead>\n",
       "  <tbody>\n",
       "    <tr>\n",
       "      <th>count</th>\n",
       "      <td>4528</td>\n",
       "      <td>4528</td>\n",
       "      <td>4528</td>\n",
       "      <td>4528</td>\n",
       "      <td>4528</td>\n",
       "      <td>4528.000000</td>\n",
       "      <td>4528</td>\n",
       "      <td>4528</td>\n",
       "    </tr>\n",
       "    <tr>\n",
       "      <th>unique</th>\n",
       "      <td>416</td>\n",
       "      <td>4528</td>\n",
       "      <td>241</td>\n",
       "      <td>3873</td>\n",
       "      <td>4403</td>\n",
       "      <td>NaN</td>\n",
       "      <td>4528</td>\n",
       "      <td>416</td>\n",
       "    </tr>\n",
       "    <tr>\n",
       "      <th>top</th>\n",
       "      <td>2020-05-17 15:23:06</td>\n",
       "      <td>fqv8v36</td>\n",
       "      <td>t3_gle82k</td>\n",
       "      <td>None</td>\n",
       "      <td>b'[deleted]'</td>\n",
       "      <td>NaN</td>\n",
       "      <td>/r/worldnews/comments/gle82k/coal_industry_wil...</td>\n",
       "      <td>2020-05-17 19:30:21</td>\n",
       "    </tr>\n",
       "    <tr>\n",
       "      <th>freq</th>\n",
       "      <td>20</td>\n",
       "      <td>1</td>\n",
       "      <td>768</td>\n",
       "      <td>90</td>\n",
       "      <td>47</td>\n",
       "      <td>NaN</td>\n",
       "      <td>1</td>\n",
       "      <td>20</td>\n",
       "    </tr>\n",
       "    <tr>\n",
       "      <th>mean</th>\n",
       "      <td>NaN</td>\n",
       "      <td>NaN</td>\n",
       "      <td>NaN</td>\n",
       "      <td>NaN</td>\n",
       "      <td>NaN</td>\n",
       "      <td>35.912102</td>\n",
       "      <td>NaN</td>\n",
       "      <td>NaN</td>\n",
       "    </tr>\n",
       "    <tr>\n",
       "      <th>std</th>\n",
       "      <td>NaN</td>\n",
       "      <td>NaN</td>\n",
       "      <td>NaN</td>\n",
       "      <td>NaN</td>\n",
       "      <td>NaN</td>\n",
       "      <td>474.892367</td>\n",
       "      <td>NaN</td>\n",
       "      <td>NaN</td>\n",
       "    </tr>\n",
       "    <tr>\n",
       "      <th>min</th>\n",
       "      <td>NaN</td>\n",
       "      <td>NaN</td>\n",
       "      <td>NaN</td>\n",
       "      <td>NaN</td>\n",
       "      <td>NaN</td>\n",
       "      <td>-159.000000</td>\n",
       "      <td>NaN</td>\n",
       "      <td>NaN</td>\n",
       "    </tr>\n",
       "    <tr>\n",
       "      <th>25%</th>\n",
       "      <td>NaN</td>\n",
       "      <td>NaN</td>\n",
       "      <td>NaN</td>\n",
       "      <td>NaN</td>\n",
       "      <td>NaN</td>\n",
       "      <td>1.000000</td>\n",
       "      <td>NaN</td>\n",
       "      <td>NaN</td>\n",
       "    </tr>\n",
       "    <tr>\n",
       "      <th>50%</th>\n",
       "      <td>NaN</td>\n",
       "      <td>NaN</td>\n",
       "      <td>NaN</td>\n",
       "      <td>NaN</td>\n",
       "      <td>NaN</td>\n",
       "      <td>1.000000</td>\n",
       "      <td>NaN</td>\n",
       "      <td>NaN</td>\n",
       "    </tr>\n",
       "    <tr>\n",
       "      <th>75%</th>\n",
       "      <td>NaN</td>\n",
       "      <td>NaN</td>\n",
       "      <td>NaN</td>\n",
       "      <td>NaN</td>\n",
       "      <td>NaN</td>\n",
       "      <td>4.000000</td>\n",
       "      <td>NaN</td>\n",
       "      <td>NaN</td>\n",
       "    </tr>\n",
       "    <tr>\n",
       "      <th>max</th>\n",
       "      <td>NaN</td>\n",
       "      <td>NaN</td>\n",
       "      <td>NaN</td>\n",
       "      <td>NaN</td>\n",
       "      <td>NaN</td>\n",
       "      <td>20967.000000</td>\n",
       "      <td>NaN</td>\n",
       "      <td>NaN</td>\n",
       "    </tr>\n",
       "  </tbody>\n",
       "</table>\n",
       "</div>"
      ],
      "text/plain": [
       "           insert_update_ts       id    link_id author          body  \\\n",
       "count                  4528     4528       4528   4528          4528   \n",
       "unique                  416     4528        241   3873          4403   \n",
       "top     2020-05-17 15:23:06  fqv8v36  t3_gle82k   None  b'[deleted]'   \n",
       "freq                     20        1        768     90            47   \n",
       "mean                    NaN      NaN        NaN    NaN           NaN   \n",
       "std                     NaN      NaN        NaN    NaN           NaN   \n",
       "min                     NaN      NaN        NaN    NaN           NaN   \n",
       "25%                     NaN      NaN        NaN    NaN           NaN   \n",
       "50%                     NaN      NaN        NaN    NaN           NaN   \n",
       "75%                     NaN      NaN        NaN    NaN           NaN   \n",
       "max                     NaN      NaN        NaN    NaN           NaN   \n",
       "\n",
       "               score                                          permalink  \\\n",
       "count    4528.000000                                               4528   \n",
       "unique           NaN                                               4528   \n",
       "top              NaN  /r/worldnews/comments/gle82k/coal_industry_wil...   \n",
       "freq             NaN                                                  1   \n",
       "mean       35.912102                                                NaN   \n",
       "std       474.892367                                                NaN   \n",
       "min      -159.000000                                                NaN   \n",
       "25%         1.000000                                                NaN   \n",
       "50%         1.000000                                                NaN   \n",
       "75%         4.000000                                                NaN   \n",
       "max     20967.000000                                                NaN   \n",
       "\n",
       "                  retrieved  \n",
       "count                  4528  \n",
       "unique                  416  \n",
       "top     2020-05-17 19:30:21  \n",
       "freq                     20  \n",
       "mean                    NaN  \n",
       "std                     NaN  \n",
       "min                     NaN  \n",
       "25%                     NaN  \n",
       "50%                     NaN  \n",
       "75%                     NaN  \n",
       "max                     NaN  "
      ]
     },
     "execution_count": 8,
     "metadata": {},
     "output_type": "execute_result"
    }
   ],
   "source": [
    "comments_df.describe(include = \"all\")"
   ]
  },
  {
   "cell_type": "markdown",
   "metadata": {},
   "source": [
    "## NaN or NULL values are indicated with body = \"b'[deleted]'\""
   ]
  },
  {
   "cell_type": "code",
   "execution_count": 9,
   "metadata": {},
   "outputs": [
    {
     "data": {
      "text/plain": [
       "insert_update_ts    0\n",
       "id                  0\n",
       "link_id             0\n",
       "author              0\n",
       "body                0\n",
       "score               0\n",
       "permalink           0\n",
       "retrieved           0\n",
       "dtype: int64"
      ]
     },
     "execution_count": 9,
     "metadata": {},
     "output_type": "execute_result"
    }
   ],
   "source": [
    "comments_df.isna().sum()"
   ]
  },
  {
   "cell_type": "code",
   "execution_count": 10,
   "metadata": {},
   "outputs": [],
   "source": [
    "deleted_body_index = comments_df[comments_df[\"body\"]== \"b'[deleted]'\"].index"
   ]
  },
  {
   "cell_type": "code",
   "execution_count": 11,
   "metadata": {},
   "outputs": [],
   "source": [
    "no_author_index = comments_df[comments_df[\"author\"]== \"None\"].index"
   ]
  },
  {
   "cell_type": "markdown",
   "metadata": {},
   "source": [
    "> ### Also, accounts that have been deleted or (possibly) suspended in some way show up with \"author\" set to \"None\""
   ]
  },
  {
   "cell_type": "code",
   "execution_count": 12,
   "metadata": {},
   "outputs": [
    {
     "data": {
      "text/plain": [
       "47"
      ]
     },
     "execution_count": 12,
     "metadata": {},
     "output_type": "execute_result"
    }
   ],
   "source": [
    "deleted_body_index.isin(no_author_index).sum()"
   ]
  },
  {
   "cell_type": "markdown",
   "metadata": {},
   "source": [
    "> ### In fact, all of the current records with deleted body content are a subset of the records with no author. In order to cover both possible scenarios we'll filter out records where the body content has been deleted and where the author has been set to \"None\"."
   ]
  },
  {
   "cell_type": "code",
   "execution_count": 13,
   "metadata": {},
   "outputs": [],
   "source": [
    "comments_df = comments_df[(comments_df[\"author\"] != \"None\")&(comments_df[\"body\"] != \"b'[deleted]'\")]"
   ]
  },
  {
   "cell_type": "code",
   "execution_count": 14,
   "metadata": {},
   "outputs": [
    {
     "data": {
      "text/plain": [
       "(4438, 8)"
      ]
     },
     "execution_count": 14,
     "metadata": {},
     "output_type": "execute_result"
    }
   ],
   "source": [
    "comments_df.shape"
   ]
  },
  {
   "cell_type": "markdown",
   "metadata": {},
   "source": [
    "## Add linguistic features"
   ]
  },
  {
   "cell_type": "code",
   "execution_count": 15,
   "metadata": {},
   "outputs": [],
   "source": [
    "import textstat"
   ]
  },
  {
   "cell_type": "code",
   "execution_count": 16,
   "metadata": {},
   "outputs": [],
   "source": [
    "comments_df[\"body_len\"] = comments_df.apply(lambda x: len(x[\"body\"]), axis = 1)"
   ]
  },
  {
   "cell_type": "code",
   "execution_count": 17,
   "metadata": {},
   "outputs": [],
   "source": [
    "comments_df[\"sent_count\"] = comments_df.apply(lambda x: textstat.sentence_count(x[\"body\"]), axis = 1)\n",
    "comments_df[\"flesch_read\"] = comments_df.apply(lambda x: textstat.flesch_reading_ease(x[\"body\"]), axis = 1)\n",
    "comments_df[\"difficult_words\"] = comments_df.apply(lambda x: textstat.difficult_words(x[\"body\"]), axis = 1)\n",
    "comments_df[\"read_index\"] = comments_df.apply(lambda x: textstat.automated_readability_index(x[\"body\"]), axis = 1)\n",
    "comments_df[\"syllable_count\"] = comments_df.apply(lambda x: textstat.syllable_count(x[\"body\"]), axis = 1)\n",
    "comments_df[\"text_standard\"] = comments_df.apply(lambda x: textstat.text_standard(x[\"body\"], float_output = True), axis=1)"
   ]
  },
  {
   "cell_type": "code",
   "execution_count": 18,
   "metadata": {},
   "outputs": [
    {
     "data": {
      "text/html": [
       "<div>\n",
       "<style scoped>\n",
       "    .dataframe tbody tr th:only-of-type {\n",
       "        vertical-align: middle;\n",
       "    }\n",
       "\n",
       "    .dataframe tbody tr th {\n",
       "        vertical-align: top;\n",
       "    }\n",
       "\n",
       "    .dataframe thead th {\n",
       "        text-align: right;\n",
       "    }\n",
       "</style>\n",
       "<table border=\"1\" class=\"dataframe\">\n",
       "  <thead>\n",
       "    <tr style=\"text-align: right;\">\n",
       "      <th></th>\n",
       "      <th>insert_update_ts</th>\n",
       "      <th>id</th>\n",
       "      <th>link_id</th>\n",
       "      <th>author</th>\n",
       "      <th>body</th>\n",
       "      <th>score</th>\n",
       "      <th>permalink</th>\n",
       "      <th>retrieved</th>\n",
       "      <th>body_len</th>\n",
       "      <th>sent_count</th>\n",
       "      <th>flesch_read</th>\n",
       "      <th>difficult_words</th>\n",
       "      <th>read_index</th>\n",
       "      <th>syllable_count</th>\n",
       "      <th>text_standard</th>\n",
       "    </tr>\n",
       "  </thead>\n",
       "  <tbody>\n",
       "    <tr>\n",
       "      <th>2909</th>\n",
       "      <td>2020-05-17 15:54:43</td>\n",
       "      <td>fqx1zoy</td>\n",
       "      <td>t3_glfmzd</td>\n",
       "      <td>Right-Comfort</td>\n",
       "      <td>b\"But how can we blame this on fossil fuels to...</td>\n",
       "      <td>-45</td>\n",
       "      <td>/r/worldnews/comments/glfmzd/the_magnetic_nort...</td>\n",
       "      <td>2020-05-17 19:54:43</td>\n",
       "      <td>118</td>\n",
       "      <td>1</td>\n",
       "      <td>75.54</td>\n",
       "      <td>6</td>\n",
       "      <td>11.1</td>\n",
       "      <td>28</td>\n",
       "      <td>9.0</td>\n",
       "    </tr>\n",
       "    <tr>\n",
       "      <th>2529</th>\n",
       "      <td>2020-05-17 15:45:11</td>\n",
       "      <td>fqwemup</td>\n",
       "      <td>t3_gl4zny</td>\n",
       "      <td>big-boy-matt</td>\n",
       "      <td>b'thank god we can continue murdering babies'</td>\n",
       "      <td>-17</td>\n",
       "      <td>/r/news/comments/gl4zny/group_buys_alabama_abo...</td>\n",
       "      <td>2020-05-17 19:45:11</td>\n",
       "      <td>45</td>\n",
       "      <td>1</td>\n",
       "      <td>55.91</td>\n",
       "      <td>3</td>\n",
       "      <td>8.3</td>\n",
       "      <td>12</td>\n",
       "      <td>11.0</td>\n",
       "    </tr>\n",
       "    <tr>\n",
       "      <th>1246</th>\n",
       "      <td>2020-05-17 15:30:12</td>\n",
       "      <td>fqug98j</td>\n",
       "      <td>t3_gku0f4</td>\n",
       "      <td>nice2yz</td>\n",
       "      <td>b'Lower down a platform on the side.'</td>\n",
       "      <td>1</td>\n",
       "      <td>/r/news/comments/gku0f4/jeff_bezos_ceo_of_amaz...</td>\n",
       "      <td>2020-05-17 19:30:12</td>\n",
       "      <td>37</td>\n",
       "      <td>1</td>\n",
       "      <td>89.75</td>\n",
       "      <td>1</td>\n",
       "      <td>2.9</td>\n",
       "      <td>9</td>\n",
       "      <td>3.0</td>\n",
       "    </tr>\n",
       "  </tbody>\n",
       "</table>\n",
       "</div>"
      ],
      "text/plain": [
       "         insert_update_ts       id    link_id         author  \\\n",
       "2909  2020-05-17 15:54:43  fqx1zoy  t3_glfmzd  Right-Comfort   \n",
       "2529  2020-05-17 15:45:11  fqwemup  t3_gl4zny   big-boy-matt   \n",
       "1246  2020-05-17 15:30:12  fqug98j  t3_gku0f4        nice2yz   \n",
       "\n",
       "                                                   body  score  \\\n",
       "2909  b\"But how can we blame this on fossil fuels to...    -45   \n",
       "2529      b'thank god we can continue murdering babies'    -17   \n",
       "1246              b'Lower down a platform on the side.'      1   \n",
       "\n",
       "                                              permalink            retrieved  \\\n",
       "2909  /r/worldnews/comments/glfmzd/the_magnetic_nort...  2020-05-17 19:54:43   \n",
       "2529  /r/news/comments/gl4zny/group_buys_alabama_abo...  2020-05-17 19:45:11   \n",
       "1246  /r/news/comments/gku0f4/jeff_bezos_ceo_of_amaz...  2020-05-17 19:30:12   \n",
       "\n",
       "      body_len  sent_count  flesch_read  difficult_words  read_index  \\\n",
       "2909       118           1        75.54                6        11.1   \n",
       "2529        45           1        55.91                3         8.3   \n",
       "1246        37           1        89.75                1         2.9   \n",
       "\n",
       "      syllable_count  text_standard  \n",
       "2909              28            9.0  \n",
       "2529              12           11.0  \n",
       "1246               9            3.0  "
      ]
     },
     "execution_count": 18,
     "metadata": {},
     "output_type": "execute_result"
    }
   ],
   "source": [
    "comments_df.sample(3)"
   ]
  },
  {
   "cell_type": "code",
   "execution_count": null,
   "metadata": {},
   "outputs": [],
   "source": []
  }
 ],
 "metadata": {
  "kernelspec": {
   "display_name": "Python 3",
   "language": "python",
   "name": "python3"
  },
  "language_info": {
   "codemirror_mode": {
    "name": "ipython",
    "version": 3
   },
   "file_extension": ".py",
   "mimetype": "text/x-python",
   "name": "python",
   "nbconvert_exporter": "python",
   "pygments_lexer": "ipython3",
   "version": "3.6.9"
  }
 },
 "nbformat": 4,
 "nbformat_minor": 4
}
