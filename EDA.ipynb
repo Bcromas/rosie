{
 "cells": [
  {
   "cell_type": "markdown",
   "metadata": {},
   "source": [
    "# Perform EDA on data captured in DB"
   ]
  },
  {
   "cell_type": "code",
   "execution_count": 14,
   "metadata": {},
   "outputs": [],
   "source": [
    "import pandas as pd\n",
    "# import pymysql.cursors\n",
    "# from secrets import DB_PASSWORD, DB_USER, CLIENT_ID, CLIENT_SECRET, USERNAME, PASSWORD, HOST, DB, CHARSET, USER_AGENT"
   ]
  },
  {
   "cell_type": "code",
   "execution_count": 15,
   "metadata": {},
   "outputs": [],
   "source": [
    "# %load secrets.py\n",
    "# secret.py\n",
    "CLIENT_ID=\"SULMPzFqxVH2sg\"\n",
    "CLIENT_SECRET=\"Kaqz28cPSq-iHgEQmGpSBNKZ1Qs\"\n",
    "USERNAME=\"ill_informatics\"\n",
    "PASSWORD=\"VzSQgJ_puZG3ew4nT9vv\"\n",
    "HOST=\"localhost\"\n",
    "DB_USER=\"bryan\"\n",
    "DB_PASSWORD=\"890833\"\n",
    "DB=\"testdb\"\n",
    "CHARSET=\"utf8mb4\"\n",
    "USER_AGENT=\"rosie\""
   ]
  },
  {
   "cell_type": "code",
   "execution_count": 2,
   "metadata": {},
   "outputs": [],
   "source": [
    "# import Subreddit, Submission, & Comments tables"
   ]
  },
  {
   "cell_type": "code",
   "execution_count": 3,
   "metadata": {},
   "outputs": [],
   "source": [
    "# create three DFs that join related Subreddits-Submissions-Comments"
   ]
  },
  {
   "cell_type": "code",
   "execution_count": 5,
   "metadata": {},
   "outputs": [],
   "source": [
    "# pick a DF & perform some EDA: counts of Submissions & Comments; counts of authors; popular n-grams (1 to 3) used in titles & body; tf-idf for titles & bodies(?)"
   ]
  },
  {
   "cell_type": "code",
   "execution_count": null,
   "metadata": {},
   "outputs": [],
   "source": []
  }
 ],
 "metadata": {
  "kernelspec": {
   "display_name": "Python 3",
   "language": "python",
   "name": "python3"
  },
  "language_info": {
   "codemirror_mode": {
    "name": "ipython",
    "version": 3
   },
   "file_extension": ".py",
   "mimetype": "text/x-python",
   "name": "python",
   "nbconvert_exporter": "python",
   "pygments_lexer": "ipython3",
   "version": "3.6.9"
  }
 },
 "nbformat": 4,
 "nbformat_minor": 4
}
