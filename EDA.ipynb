{
 "cells": [
  {
   "cell_type": "markdown",
   "metadata": {},
   "source": [
    "# Perform EDA on data captured in DB"
   ]
  },
  {
   "cell_type": "code",
   "execution_count": 1,
   "metadata": {},
   "outputs": [],
   "source": [
    "import pandas as pd"
   ]
  },
  {
   "cell_type": "code",
   "execution_count": 2,
   "metadata": {},
   "outputs": [],
   "source": [
    "comments_df = pd.read_csv(\"data/comments.csv\", index_col = 0, encoding = \"utf_8\")"
   ]
  },
  {
   "cell_type": "code",
   "execution_count": 3,
   "metadata": {},
   "outputs": [
    {
     "data": {
      "text/plain": [
       "(3507, 9)"
      ]
     },
     "execution_count": 3,
     "metadata": {},
     "output_type": "execute_result"
    }
   ],
   "source": [
    "comments_df.shape"
   ]
  },
  {
   "cell_type": "code",
   "execution_count": 4,
   "metadata": {},
   "outputs": [
    {
     "data": {
      "text/html": [
       "<div>\n",
       "<style scoped>\n",
       "    .dataframe tbody tr th:only-of-type {\n",
       "        vertical-align: middle;\n",
       "    }\n",
       "\n",
       "    .dataframe tbody tr th {\n",
       "        vertical-align: top;\n",
       "    }\n",
       "\n",
       "    .dataframe thead th {\n",
       "        text-align: right;\n",
       "    }\n",
       "</style>\n",
       "<table border=\"1\" class=\"dataframe\">\n",
       "  <thead>\n",
       "    <tr style=\"text-align: right;\">\n",
       "      <th></th>\n",
       "      <th>insert_update_ts</th>\n",
       "      <th>id</th>\n",
       "      <th>link_id</th>\n",
       "      <th>subreddit_name</th>\n",
       "      <th>author</th>\n",
       "      <th>body</th>\n",
       "      <th>score</th>\n",
       "      <th>permalink</th>\n",
       "      <th>retrieved</th>\n",
       "    </tr>\n",
       "  </thead>\n",
       "  <tbody>\n",
       "    <tr>\n",
       "      <th>count</th>\n",
       "      <td>3507</td>\n",
       "      <td>3507</td>\n",
       "      <td>3507</td>\n",
       "      <td>3507</td>\n",
       "      <td>3507</td>\n",
       "      <td>3507</td>\n",
       "      <td>3507.000000</td>\n",
       "      <td>3507</td>\n",
       "      <td>3507</td>\n",
       "    </tr>\n",
       "    <tr>\n",
       "      <th>unique</th>\n",
       "      <td>3051</td>\n",
       "      <td>3507</td>\n",
       "      <td>232</td>\n",
       "      <td>3</td>\n",
       "      <td>3072</td>\n",
       "      <td>3478</td>\n",
       "      <td>NaN</td>\n",
       "      <td>3507</td>\n",
       "      <td>3047</td>\n",
       "    </tr>\n",
       "    <tr>\n",
       "      <th>top</th>\n",
       "      <td>2020-05-21 16:57:21</td>\n",
       "      <td>frcnfm2</td>\n",
       "      <td>t3_gnuj72</td>\n",
       "      <td>t5_2qh3l</td>\n",
       "      <td>autotldr</td>\n",
       "      <td>b'[deleted]'</td>\n",
       "      <td>NaN</td>\n",
       "      <td>/r/news/comments/gnq41k/michael_cohen_to_be_re...</td>\n",
       "      <td>2020-05-21 20:57:21</td>\n",
       "    </tr>\n",
       "    <tr>\n",
       "      <th>freq</th>\n",
       "      <td>4</td>\n",
       "      <td>1</td>\n",
       "      <td>574</td>\n",
       "      <td>2530</td>\n",
       "      <td>46</td>\n",
       "      <td>23</td>\n",
       "      <td>NaN</td>\n",
       "      <td>1</td>\n",
       "      <td>4</td>\n",
       "    </tr>\n",
       "    <tr>\n",
       "      <th>mean</th>\n",
       "      <td>NaN</td>\n",
       "      <td>NaN</td>\n",
       "      <td>NaN</td>\n",
       "      <td>NaN</td>\n",
       "      <td>NaN</td>\n",
       "      <td>NaN</td>\n",
       "      <td>36.305104</td>\n",
       "      <td>NaN</td>\n",
       "      <td>NaN</td>\n",
       "    </tr>\n",
       "    <tr>\n",
       "      <th>std</th>\n",
       "      <td>NaN</td>\n",
       "      <td>NaN</td>\n",
       "      <td>NaN</td>\n",
       "      <td>NaN</td>\n",
       "      <td>NaN</td>\n",
       "      <td>NaN</td>\n",
       "      <td>355.748017</td>\n",
       "      <td>NaN</td>\n",
       "      <td>NaN</td>\n",
       "    </tr>\n",
       "    <tr>\n",
       "      <th>min</th>\n",
       "      <td>NaN</td>\n",
       "      <td>NaN</td>\n",
       "      <td>NaN</td>\n",
       "      <td>NaN</td>\n",
       "      <td>NaN</td>\n",
       "      <td>NaN</td>\n",
       "      <td>-244.000000</td>\n",
       "      <td>NaN</td>\n",
       "      <td>NaN</td>\n",
       "    </tr>\n",
       "    <tr>\n",
       "      <th>25%</th>\n",
       "      <td>NaN</td>\n",
       "      <td>NaN</td>\n",
       "      <td>NaN</td>\n",
       "      <td>NaN</td>\n",
       "      <td>NaN</td>\n",
       "      <td>NaN</td>\n",
       "      <td>1.000000</td>\n",
       "      <td>NaN</td>\n",
       "      <td>NaN</td>\n",
       "    </tr>\n",
       "    <tr>\n",
       "      <th>50%</th>\n",
       "      <td>NaN</td>\n",
       "      <td>NaN</td>\n",
       "      <td>NaN</td>\n",
       "      <td>NaN</td>\n",
       "      <td>NaN</td>\n",
       "      <td>NaN</td>\n",
       "      <td>2.000000</td>\n",
       "      <td>NaN</td>\n",
       "      <td>NaN</td>\n",
       "    </tr>\n",
       "    <tr>\n",
       "      <th>75%</th>\n",
       "      <td>NaN</td>\n",
       "      <td>NaN</td>\n",
       "      <td>NaN</td>\n",
       "      <td>NaN</td>\n",
       "      <td>NaN</td>\n",
       "      <td>NaN</td>\n",
       "      <td>5.000000</td>\n",
       "      <td>NaN</td>\n",
       "      <td>NaN</td>\n",
       "    </tr>\n",
       "    <tr>\n",
       "      <th>max</th>\n",
       "      <td>NaN</td>\n",
       "      <td>NaN</td>\n",
       "      <td>NaN</td>\n",
       "      <td>NaN</td>\n",
       "      <td>NaN</td>\n",
       "      <td>NaN</td>\n",
       "      <td>9969.000000</td>\n",
       "      <td>NaN</td>\n",
       "      <td>NaN</td>\n",
       "    </tr>\n",
       "  </tbody>\n",
       "</table>\n",
       "</div>"
      ],
      "text/plain": [
       "           insert_update_ts       id    link_id subreddit_name    author  \\\n",
       "count                  3507     3507       3507           3507      3507   \n",
       "unique                 3051     3507        232              3      3072   \n",
       "top     2020-05-21 16:57:21  frcnfm2  t3_gnuj72       t5_2qh3l  autotldr   \n",
       "freq                      4        1        574           2530        46   \n",
       "mean                    NaN      NaN        NaN            NaN       NaN   \n",
       "std                     NaN      NaN        NaN            NaN       NaN   \n",
       "min                     NaN      NaN        NaN            NaN       NaN   \n",
       "25%                     NaN      NaN        NaN            NaN       NaN   \n",
       "50%                     NaN      NaN        NaN            NaN       NaN   \n",
       "75%                     NaN      NaN        NaN            NaN       NaN   \n",
       "max                     NaN      NaN        NaN            NaN       NaN   \n",
       "\n",
       "                body        score  \\\n",
       "count           3507  3507.000000   \n",
       "unique          3478          NaN   \n",
       "top     b'[deleted]'          NaN   \n",
       "freq              23          NaN   \n",
       "mean             NaN    36.305104   \n",
       "std              NaN   355.748017   \n",
       "min              NaN  -244.000000   \n",
       "25%              NaN     1.000000   \n",
       "50%              NaN     2.000000   \n",
       "75%              NaN     5.000000   \n",
       "max              NaN  9969.000000   \n",
       "\n",
       "                                                permalink            retrieved  \n",
       "count                                                3507                 3507  \n",
       "unique                                               3507                 3047  \n",
       "top     /r/news/comments/gnq41k/michael_cohen_to_be_re...  2020-05-21 20:57:21  \n",
       "freq                                                    1                    4  \n",
       "mean                                                  NaN                  NaN  \n",
       "std                                                   NaN                  NaN  \n",
       "min                                                   NaN                  NaN  \n",
       "25%                                                   NaN                  NaN  \n",
       "50%                                                   NaN                  NaN  \n",
       "75%                                                   NaN                  NaN  \n",
       "max                                                   NaN                  NaN  "
      ]
     },
     "execution_count": 4,
     "metadata": {},
     "output_type": "execute_result"
    }
   ],
   "source": [
    "comments_df.describe(include = \"all\")"
   ]
  },
  {
   "cell_type": "markdown",
   "metadata": {},
   "source": [
    "## NaN or NULL values are indicated with body = \"b'[deleted]'\""
   ]
  },
  {
   "cell_type": "code",
   "execution_count": 5,
   "metadata": {},
   "outputs": [
    {
     "data": {
      "text/plain": [
       "insert_update_ts    0\n",
       "id                  0\n",
       "link_id             0\n",
       "subreddit_name      0\n",
       "author              0\n",
       "body                0\n",
       "score               0\n",
       "permalink           0\n",
       "retrieved           0\n",
       "dtype: int64"
      ]
     },
     "execution_count": 5,
     "metadata": {},
     "output_type": "execute_result"
    }
   ],
   "source": [
    "comments_df.isna().sum()"
   ]
  },
  {
   "cell_type": "code",
   "execution_count": 6,
   "metadata": {},
   "outputs": [],
   "source": [
    "deleted_body_index = comments_df[comments_df[\"body\"]== \"b'[deleted]'\"].index"
   ]
  },
  {
   "cell_type": "code",
   "execution_count": 7,
   "metadata": {},
   "outputs": [],
   "source": [
    "no_author_index = comments_df[comments_df[\"author\"]== \"None\"].index"
   ]
  },
  {
   "cell_type": "markdown",
   "metadata": {},
   "source": [
    "> ### Also, accounts that have been deleted or (possibly) suspended in some way show up with \"author\" set to \"None\""
   ]
  },
  {
   "cell_type": "code",
   "execution_count": 8,
   "metadata": {},
   "outputs": [
    {
     "data": {
      "text/plain": [
       "23"
      ]
     },
     "execution_count": 8,
     "metadata": {},
     "output_type": "execute_result"
    }
   ],
   "source": [
    "deleted_body_index.isin(no_author_index).sum()"
   ]
  },
  {
   "cell_type": "markdown",
   "metadata": {},
   "source": [
    "> ### In fact, all of the current records with deleted body content are a subset of the records with no author. In order to cover both possible scenarios we'll filter out records where the body content has been deleted and where the author has been set to \"None\"."
   ]
  },
  {
   "cell_type": "code",
   "execution_count": 9,
   "metadata": {},
   "outputs": [],
   "source": [
    "comments_df = comments_df[(comments_df[\"author\"] != \"None\")&(comments_df[\"body\"] != \"b'[deleted]'\")]"
   ]
  },
  {
   "cell_type": "code",
   "execution_count": 10,
   "metadata": {},
   "outputs": [
    {
     "data": {
      "text/plain": [
       "(3480, 9)"
      ]
     },
     "execution_count": 10,
     "metadata": {},
     "output_type": "execute_result"
    }
   ],
   "source": [
    "comments_df.shape"
   ]
  },
  {
   "cell_type": "markdown",
   "metadata": {},
   "source": [
    "### Most common authors"
   ]
  },
  {
   "cell_type": "code",
   "execution_count": 11,
   "metadata": {},
   "outputs": [
    {
     "data": {
      "text/plain": [
       "autotldr            0.0132\n",
       "EdDelahanty         0.0029\n",
       "Upper_Designer      0.0020\n",
       "Speedster4206       0.0017\n",
       "AutoModerator       0.0017\n",
       "honklersheros       0.0014\n",
       "thought_first       0.0014\n",
       "Mountains_beyond    0.0014\n",
       "BeeAce              0.0014\n",
       "polipuncher         0.0011\n",
       "Name: author, dtype: float64"
      ]
     },
     "execution_count": 11,
     "metadata": {},
     "output_type": "execute_result"
    }
   ],
   "source": [
    "round(comments_df[\"author\"].value_counts(normalize = True),4)[:10] # the authors autotldr & AutoModerator are bots :)"
   ]
  },
  {
   "cell_type": "code",
   "execution_count": 12,
   "metadata": {},
   "outputs": [],
   "source": [
    "comments_df = comments_df[(comments_df[\"author\"] != \"autotldr\")&(comments_df[\"author\"] != \"AutoModerator\")]"
   ]
  },
  {
   "cell_type": "code",
   "execution_count": 13,
   "metadata": {},
   "outputs": [
    {
     "data": {
      "text/plain": [
       "(3428, 9)"
      ]
     },
     "execution_count": 13,
     "metadata": {},
     "output_type": "execute_result"
    }
   ],
   "source": [
    "comments_df.shape"
   ]
  },
  {
   "cell_type": "markdown",
   "metadata": {},
   "source": [
    "## Add linguistic features"
   ]
  },
  {
   "cell_type": "code",
   "execution_count": 14,
   "metadata": {},
   "outputs": [],
   "source": [
    "import textstat"
   ]
  },
  {
   "cell_type": "code",
   "execution_count": 15,
   "metadata": {},
   "outputs": [],
   "source": [
    "comments_df[\"body_len\"] = comments_df.apply(lambda x: len(x[\"body\"]), axis = 1)"
   ]
  },
  {
   "cell_type": "code",
   "execution_count": 16,
   "metadata": {},
   "outputs": [],
   "source": [
    "comments_df[\"sent_count\"] = comments_df.apply(lambda x: textstat.sentence_count(x[\"body\"]), axis = 1)\n",
    "comments_df[\"flesch_read\"] = comments_df.apply(lambda x: textstat.flesch_reading_ease(x[\"body\"]), axis = 1)\n",
    "comments_df[\"difficult_words\"] = comments_df.apply(lambda x: textstat.difficult_words(x[\"body\"]), axis = 1)\n",
    "comments_df[\"read_index\"] = comments_df.apply(lambda x: textstat.automated_readability_index(x[\"body\"]), axis = 1)\n",
    "comments_df[\"syllable_count\"] = comments_df.apply(lambda x: textstat.syllable_count(x[\"body\"]), axis = 1)\n",
    "comments_df[\"text_standard\"] = comments_df.apply(lambda x: textstat.text_standard(x[\"body\"], float_output = True), axis=1)"
   ]
  },
  {
   "cell_type": "code",
   "execution_count": 17,
   "metadata": {},
   "outputs": [
    {
     "data": {
      "text/html": [
       "<div>\n",
       "<style scoped>\n",
       "    .dataframe tbody tr th:only-of-type {\n",
       "        vertical-align: middle;\n",
       "    }\n",
       "\n",
       "    .dataframe tbody tr th {\n",
       "        vertical-align: top;\n",
       "    }\n",
       "\n",
       "    .dataframe thead th {\n",
       "        text-align: right;\n",
       "    }\n",
       "</style>\n",
       "<table border=\"1\" class=\"dataframe\">\n",
       "  <thead>\n",
       "    <tr style=\"text-align: right;\">\n",
       "      <th></th>\n",
       "      <th>insert_update_ts</th>\n",
       "      <th>id</th>\n",
       "      <th>link_id</th>\n",
       "      <th>subreddit_name</th>\n",
       "      <th>author</th>\n",
       "      <th>body</th>\n",
       "      <th>score</th>\n",
       "      <th>permalink</th>\n",
       "      <th>retrieved</th>\n",
       "      <th>body_len</th>\n",
       "      <th>sent_count</th>\n",
       "      <th>flesch_read</th>\n",
       "      <th>difficult_words</th>\n",
       "      <th>read_index</th>\n",
       "      <th>syllable_count</th>\n",
       "      <th>text_standard</th>\n",
       "    </tr>\n",
       "  </thead>\n",
       "  <tbody>\n",
       "    <tr>\n",
       "      <th>945</th>\n",
       "      <td>2020-05-21 16:29:03</td>\n",
       "      <td>frb2q2s</td>\n",
       "      <td>t3_gnnjwr</td>\n",
       "      <td>t5_2qh11</td>\n",
       "      <td>enjaegreg</td>\n",
       "      <td>b'Guy is living in 3020'</td>\n",
       "      <td>24</td>\n",
       "      <td>/r/offbeat/comments/gnnjwr/restaurant_owner_ma...</td>\n",
       "      <td>2020-05-21 20:29:03</td>\n",
       "      <td>24</td>\n",
       "      <td>1</td>\n",
       "      <td>100.24</td>\n",
       "      <td>0</td>\n",
       "      <td>-0.2</td>\n",
       "      <td>6</td>\n",
       "      <td>0.0</td>\n",
       "    </tr>\n",
       "    <tr>\n",
       "      <th>2540</th>\n",
       "      <td>2020-05-21 16:52:50</td>\n",
       "      <td>frcz1lj</td>\n",
       "      <td>t3_gnvud3</td>\n",
       "      <td>t5_2qh3l</td>\n",
       "      <td>poopnada</td>\n",
       "      <td>b'this isnt all that abnormal for corpus christi'</td>\n",
       "      <td>-1</td>\n",
       "      <td>/r/news/comments/gnvud3/active_shooter_situati...</td>\n",
       "      <td>2020-05-21 20:52:50</td>\n",
       "      <td>49</td>\n",
       "      <td>1</td>\n",
       "      <td>71.82</td>\n",
       "      <td>3</td>\n",
       "      <td>7.3</td>\n",
       "      <td>12</td>\n",
       "      <td>10.0</td>\n",
       "    </tr>\n",
       "    <tr>\n",
       "      <th>2769</th>\n",
       "      <td>2020-05-21 17:04:11</td>\n",
       "      <td>frd6t5c</td>\n",
       "      <td>t3_go0j26</td>\n",
       "      <td>t5_2qh13</td>\n",
       "      <td>FeelingPsychology</td>\n",
       "      <td>b'Can America please buy Trudeau?'</td>\n",
       "      <td>-10</td>\n",
       "      <td>/r/worldnews/comments/go0j26/china_doesnt_seem...</td>\n",
       "      <td>2020-05-21 21:04:11</td>\n",
       "      <td>34</td>\n",
       "      <td>1</td>\n",
       "      <td>83.32</td>\n",
       "      <td>0</td>\n",
       "      <td>9.3</td>\n",
       "      <td>7</td>\n",
       "      <td>3.0</td>\n",
       "    </tr>\n",
       "  </tbody>\n",
       "</table>\n",
       "</div>"
      ],
      "text/plain": [
       "         insert_update_ts       id    link_id subreddit_name  \\\n",
       "945   2020-05-21 16:29:03  frb2q2s  t3_gnnjwr       t5_2qh11   \n",
       "2540  2020-05-21 16:52:50  frcz1lj  t3_gnvud3       t5_2qh3l   \n",
       "2769  2020-05-21 17:04:11  frd6t5c  t3_go0j26       t5_2qh13   \n",
       "\n",
       "                 author                                               body  \\\n",
       "945           enjaegreg                           b'Guy is living in 3020'   \n",
       "2540           poopnada  b'this isnt all that abnormal for corpus christi'   \n",
       "2769  FeelingPsychology                 b'Can America please buy Trudeau?'   \n",
       "\n",
       "      score                                          permalink  \\\n",
       "945      24  /r/offbeat/comments/gnnjwr/restaurant_owner_ma...   \n",
       "2540     -1  /r/news/comments/gnvud3/active_shooter_situati...   \n",
       "2769    -10  /r/worldnews/comments/go0j26/china_doesnt_seem...   \n",
       "\n",
       "                retrieved  body_len  sent_count  flesch_read  difficult_words  \\\n",
       "945   2020-05-21 20:29:03        24           1       100.24                0   \n",
       "2540  2020-05-21 20:52:50        49           1        71.82                3   \n",
       "2769  2020-05-21 21:04:11        34           1        83.32                0   \n",
       "\n",
       "      read_index  syllable_count  text_standard  \n",
       "945         -0.2               6            0.0  \n",
       "2540         7.3              12           10.0  \n",
       "2769         9.3               7            3.0  "
      ]
     },
     "execution_count": 17,
     "metadata": {},
     "output_type": "execute_result"
    }
   ],
   "source": [
    "comments_df.sample(3)"
   ]
  },
  {
   "cell_type": "code",
   "execution_count": 18,
   "metadata": {},
   "outputs": [
    {
     "data": {
      "text/html": [
       "<div>\n",
       "<style scoped>\n",
       "    .dataframe tbody tr th:only-of-type {\n",
       "        vertical-align: middle;\n",
       "    }\n",
       "\n",
       "    .dataframe tbody tr th {\n",
       "        vertical-align: top;\n",
       "    }\n",
       "\n",
       "    .dataframe thead th {\n",
       "        text-align: right;\n",
       "    }\n",
       "</style>\n",
       "<table border=\"1\" class=\"dataframe\">\n",
       "  <thead>\n",
       "    <tr style=\"text-align: right;\">\n",
       "      <th></th>\n",
       "      <th>score</th>\n",
       "      <th>body_len</th>\n",
       "      <th>sent_count</th>\n",
       "      <th>flesch_read</th>\n",
       "      <th>difficult_words</th>\n",
       "      <th>read_index</th>\n",
       "      <th>syllable_count</th>\n",
       "      <th>text_standard</th>\n",
       "    </tr>\n",
       "    <tr>\n",
       "      <th>subreddit_name</th>\n",
       "      <th></th>\n",
       "      <th></th>\n",
       "      <th></th>\n",
       "      <th></th>\n",
       "      <th></th>\n",
       "      <th></th>\n",
       "      <th></th>\n",
       "      <th></th>\n",
       "    </tr>\n",
       "  </thead>\n",
       "  <tbody>\n",
       "    <tr>\n",
       "      <th>t5_2qh11</th>\n",
       "      <td>18.169451</td>\n",
       "      <td>107.465394</td>\n",
       "      <td>1.379475</td>\n",
       "      <td>65.974558</td>\n",
       "      <td>2.914081</td>\n",
       "      <td>14.918138</td>\n",
       "      <td>24.673031</td>\n",
       "      <td>6.517900</td>\n",
       "    </tr>\n",
       "    <tr>\n",
       "      <th>t5_2qh13</th>\n",
       "      <td>11.488889</td>\n",
       "      <td>171.935354</td>\n",
       "      <td>1.612121</td>\n",
       "      <td>63.689374</td>\n",
       "      <td>5.187879</td>\n",
       "      <td>13.669495</td>\n",
       "      <td>40.793939</td>\n",
       "      <td>8.393939</td>\n",
       "    </tr>\n",
       "    <tr>\n",
       "      <th>t5_2qh3l</th>\n",
       "      <td>45.172633</td>\n",
       "      <td>172.387430</td>\n",
       "      <td>1.731504</td>\n",
       "      <td>68.836619</td>\n",
       "      <td>4.688146</td>\n",
       "      <td>12.150438</td>\n",
       "      <td>40.564041</td>\n",
       "      <td>8.116945</td>\n",
       "    </tr>\n",
       "  </tbody>\n",
       "</table>\n",
       "</div>"
      ],
      "text/plain": [
       "                    score    body_len  sent_count  flesch_read  \\\n",
       "subreddit_name                                                   \n",
       "t5_2qh11        18.169451  107.465394    1.379475    65.974558   \n",
       "t5_2qh13        11.488889  171.935354    1.612121    63.689374   \n",
       "t5_2qh3l        45.172633  172.387430    1.731504    68.836619   \n",
       "\n",
       "                difficult_words  read_index  syllable_count  text_standard  \n",
       "subreddit_name                                                              \n",
       "t5_2qh11               2.914081   14.918138       24.673031       6.517900  \n",
       "t5_2qh13               5.187879   13.669495       40.793939       8.393939  \n",
       "t5_2qh3l               4.688146   12.150438       40.564041       8.116945  "
      ]
     },
     "execution_count": 18,
     "metadata": {},
     "output_type": "execute_result"
    }
   ],
   "source": [
    "comments_df.groupby(\"subreddit_name\").mean()"
   ]
  },
  {
   "cell_type": "code",
   "execution_count": 64,
   "metadata": {},
   "outputs": [
    {
     "data": {
      "text/html": [
       "<div>\n",
       "<style scoped>\n",
       "    .dataframe tbody tr th:only-of-type {\n",
       "        vertical-align: middle;\n",
       "    }\n",
       "\n",
       "    .dataframe tbody tr th {\n",
       "        vertical-align: top;\n",
       "    }\n",
       "\n",
       "    .dataframe thead th {\n",
       "        text-align: right;\n",
       "    }\n",
       "</style>\n",
       "<table border=\"1\" class=\"dataframe\">\n",
       "  <thead>\n",
       "    <tr style=\"text-align: right;\">\n",
       "      <th></th>\n",
       "      <th>score</th>\n",
       "      <th>body_len</th>\n",
       "      <th>sent_count</th>\n",
       "      <th>flesch_read</th>\n",
       "      <th>difficult_words</th>\n",
       "      <th>read_index</th>\n",
       "      <th>syllable_count</th>\n",
       "      <th>text_standard</th>\n",
       "    </tr>\n",
       "  </thead>\n",
       "  <tbody>\n",
       "    <tr>\n",
       "      <th>count</th>\n",
       "      <td>3428.000000</td>\n",
       "      <td>3428.000000</td>\n",
       "      <td>3428.000000</td>\n",
       "      <td>3428.000000</td>\n",
       "      <td>3428.000000</td>\n",
       "      <td>3428.000000</td>\n",
       "      <td>3428.000000</td>\n",
       "      <td>3428.000000</td>\n",
       "    </tr>\n",
       "    <tr>\n",
       "      <th>mean</th>\n",
       "      <td>37.008168</td>\n",
       "      <td>164.386814</td>\n",
       "      <td>1.671237</td>\n",
       "      <td>67.743536</td>\n",
       "      <td>4.543466</td>\n",
       "      <td>12.708081</td>\n",
       "      <td>38.654901</td>\n",
       "      <td>7.961494</td>\n",
       "    </tr>\n",
       "    <tr>\n",
       "      <th>std</th>\n",
       "      <td>359.767749</td>\n",
       "      <td>218.657661</td>\n",
       "      <td>1.355907</td>\n",
       "      <td>45.674779</td>\n",
       "      <td>6.843503</td>\n",
       "      <td>17.393757</td>\n",
       "      <td>52.627587</td>\n",
       "      <td>6.567841</td>\n",
       "    </tr>\n",
       "    <tr>\n",
       "      <th>min</th>\n",
       "      <td>-244.000000</td>\n",
       "      <td>6.000000</td>\n",
       "      <td>1.000000</td>\n",
       "      <td>-809.390000</td>\n",
       "      <td>0.000000</td>\n",
       "      <td>-9.200000</td>\n",
       "      <td>1.000000</td>\n",
       "      <td>-2.000000</td>\n",
       "    </tr>\n",
       "    <tr>\n",
       "      <th>25%</th>\n",
       "      <td>1.000000</td>\n",
       "      <td>55.000000</td>\n",
       "      <td>1.000000</td>\n",
       "      <td>56.930000</td>\n",
       "      <td>1.000000</td>\n",
       "      <td>5.975000</td>\n",
       "      <td>12.000000</td>\n",
       "      <td>4.000000</td>\n",
       "    </tr>\n",
       "    <tr>\n",
       "      <th>50%</th>\n",
       "      <td>2.000000</td>\n",
       "      <td>100.000000</td>\n",
       "      <td>1.000000</td>\n",
       "      <td>73.610000</td>\n",
       "      <td>3.000000</td>\n",
       "      <td>9.300000</td>\n",
       "      <td>23.000000</td>\n",
       "      <td>7.000000</td>\n",
       "    </tr>\n",
       "    <tr>\n",
       "      <th>75%</th>\n",
       "      <td>5.000000</td>\n",
       "      <td>188.250000</td>\n",
       "      <td>2.000000</td>\n",
       "      <td>88.377500</td>\n",
       "      <td>5.000000</td>\n",
       "      <td>14.425000</td>\n",
       "      <td>45.000000</td>\n",
       "      <td>10.000000</td>\n",
       "    </tr>\n",
       "    <tr>\n",
       "      <th>max</th>\n",
       "      <td>9969.000000</td>\n",
       "      <td>5509.000000</td>\n",
       "      <td>19.000000</td>\n",
       "      <td>121.220000</td>\n",
       "      <td>191.000000</td>\n",
       "      <td>374.700000</td>\n",
       "      <td>1333.000000</td>\n",
       "      <td>119.000000</td>\n",
       "    </tr>\n",
       "  </tbody>\n",
       "</table>\n",
       "</div>"
      ],
      "text/plain": [
       "             score     body_len   sent_count  flesch_read  difficult_words  \\\n",
       "count  3428.000000  3428.000000  3428.000000  3428.000000      3428.000000   \n",
       "mean     37.008168   164.386814     1.671237    67.743536         4.543466   \n",
       "std     359.767749   218.657661     1.355907    45.674779         6.843503   \n",
       "min    -244.000000     6.000000     1.000000  -809.390000         0.000000   \n",
       "25%       1.000000    55.000000     1.000000    56.930000         1.000000   \n",
       "50%       2.000000   100.000000     1.000000    73.610000         3.000000   \n",
       "75%       5.000000   188.250000     2.000000    88.377500         5.000000   \n",
       "max    9969.000000  5509.000000    19.000000   121.220000       191.000000   \n",
       "\n",
       "        read_index  syllable_count  text_standard  \n",
       "count  3428.000000     3428.000000    3428.000000  \n",
       "mean     12.708081       38.654901       7.961494  \n",
       "std      17.393757       52.627587       6.567841  \n",
       "min      -9.200000        1.000000      -2.000000  \n",
       "25%       5.975000       12.000000       4.000000  \n",
       "50%       9.300000       23.000000       7.000000  \n",
       "75%      14.425000       45.000000      10.000000  \n",
       "max     374.700000     1333.000000     119.000000  "
      ]
     },
     "execution_count": 64,
     "metadata": {},
     "output_type": "execute_result"
    }
   ],
   "source": [
    "comments_df.describe()"
   ]
  },
  {
   "cell_type": "markdown",
   "metadata": {},
   "source": [
    "### Distributions for score & body_len"
   ]
  },
  {
   "cell_type": "code",
   "execution_count": 20,
   "metadata": {},
   "outputs": [],
   "source": [
    "import matplotlib.pyplot as plt"
   ]
  },
  {
   "cell_type": "code",
   "execution_count": 21,
   "metadata": {},
   "outputs": [
    {
     "data": {
      "image/png": "[encoded data removed]",
      "text/plain": [
       "<Figure size 432x288 with 1 Axes>"
      ]
     },
     "metadata": {
      "needs_background": "light"
     },
     "output_type": "display_data"
    }
   ],
   "source": [
    "plt.boxplot(x = comments_df[\"score\"], showfliers = False);\n",
    "plt.tick_params(labelbottom = False)\n",
    "plt.ylabel(\"Score\");\n",
    "plt.title(label = \"Scores Awarded to Comments in Crawl\");"
   ]
  },
  {
   "cell_type": "code",
   "execution_count": 76,
   "metadata": {},
   "outputs": [],
   "source": [
    "# np.mean(comments_df[\"score\"]), np.median(comments_df[\"score\"]), np.min(comments_df[\"score\"]), np.max(comments_df[\"score\"]), np.max(comments_df[\"score\"])-np.min(comments_df[\"score\"])"
   ]
  },
  {
   "cell_type": "code",
   "execution_count": 74,
   "metadata": {},
   "outputs": [],
   "source": [
    "# q75, q25 = np.percentile(comments_df[\"score\"], [75 ,25])\n",
    "# q75 - q25"
   ]
  },
  {
   "cell_type": "markdown",
   "metadata": {},
   "source": [
    "> ### Comments have a mean score of 37 and a range of 10,213 (from -244 to 9969). However, what we see in the boxplot above may give a better sense of the location of the score data. We can see the median is 2 and the IQR is 4 (75th percentile = 5, 25th percentile = 1)."
   ]
  },
  {
   "cell_type": "code",
   "execution_count": 22,
   "metadata": {},
   "outputs": [],
   "source": [
    "import numpy as np"
   ]
  },
  {
   "cell_type": "code",
   "execution_count": 23,
   "metadata": {},
   "outputs": [
    {
     "data": {
      "image/png": "[encoded data removed]",
      "text/plain": [
       "<Figure size 432x288 with 1 Axes>"
      ]
     },
     "metadata": {
      "needs_background": "light"
     },
     "output_type": "display_data"
    }
   ],
   "source": [
    "plt.hist(x = comments_df[\"score\"], bins = 50, range = (-10, 50), color = \"#8800ff\");\n",
    "plt.xlabel(\"Score\")\n",
    "plt.ylabel(\"Frequency Count in Crawl\")\n",
    "plt.axvline(x = np.mean(comments_df[\"score\"]), color = \"#00ff88\")\n",
    "plt.axvline(x = np.median(comments_df[\"score\"]), color = \"#ff8800\") # orange is median\n",
    "plt.title(label = \"Scores Awarded to Comments in Crawl\");\n",
    "plt.annotate(s = \"<-- mean\", xy = (np.mean(comments_df[\"score\"])+1,600));\n",
    "plt.annotate(s = \"<-- median\", xy = (np.median(comments_df[\"score\"])+1,600));"
   ]
  },
  {
   "cell_type": "markdown",
   "metadata": {},
   "source": [
    "> ### The scores awarded to the comments in the crawl are right-skewed with a median value of 2.0 and a mean value of 37. The maximum score in the crawl was 9969."
   ]
  },
  {
   "cell_type": "code",
   "execution_count": 44,
   "metadata": {},
   "outputs": [
    {
     "data": {
      "image/png": "[encoded data removed]",
      "text/plain": [
       "<Figure size 432x288 with 1 Axes>"
      ]
     },
     "metadata": {
      "needs_background": "light"
     },
     "output_type": "display_data"
    }
   ],
   "source": [
    "plt.boxplot(x = comments_df[\"body_len\"], showfliers = False);\n",
    "plt.tick_params(labelbottom = False)\n",
    "plt.ylabel(\"Length\");\n",
    "plt.title(label = \"Length of Comments in Crawl\");"
   ]
  },
  {
   "cell_type": "code",
   "execution_count": 78,
   "metadata": {},
   "outputs": [],
   "source": [
    "# np.mean(comments_df[\"body_len\"]), np.median(comments_df[\"body_len\"]), np.min(comments_df[\"body_len\"]), np.max(comments_df[\"body_len\"]), np.max(comments_df[\"body_len\"])-np.min(comments_df[\"body_len\"])"
   ]
  },
  {
   "cell_type": "code",
   "execution_count": 71,
   "metadata": {},
   "outputs": [],
   "source": [
    "# q75, q25 = np.percentile(comments_df[\"body_len\"], [75 ,25])\n",
    "# q75 - q25"
   ]
  },
  {
   "cell_type": "markdown",
   "metadata": {},
   "source": [
    "> ### Length of comments have a mean of 164 and a range of 5503 (6 to 5509). Similar to above, the boxplot may give a better sense of the location of the length of the comment data. The median is 100 and the IQR is ~133 (75th percentile = 188, 25th percentile = 55)."
   ]
  },
  {
   "cell_type": "code",
   "execution_count": 53,
   "metadata": {},
   "outputs": [
    {
     "data": {
      "image/png": "[encoded data removed]",
      "text/plain": [
       "<Figure size 432x288 with 1 Axes>"
      ]
     },
     "metadata": {
      "needs_background": "light"
     },
     "output_type": "display_data"
    }
   ],
   "source": [
    "plt.hist(x = comments_df[\"body_len\"], bins = 50, range = (0, 400), color = \"#8800ff\");\n",
    "plt.xlabel(\"Length\")\n",
    "plt.ylabel(\"Frequency Count in Crawl\")\n",
    "plt.axvline(x = np.mean(comments_df[\"body_len\"]), color = \"#00ff88\")\n",
    "plt.axvline(x = np.median(comments_df[\"body_len\"]), color = \"#ff8800\") # orange is median\n",
    "plt.title(label = \"Length of Comments in Crawl\");\n",
    "plt.annotate(s = \"<-- mean\", xy = (np.mean(comments_df[\"body_len\"])+1,100));\n",
    "plt.annotate(s = \"<-- median\", xy = (np.median(comments_df[\"body_len\"])+1,150));"
   ]
  },
  {
   "cell_type": "markdown",
   "metadata": {},
   "source": [
    "### Ngram analysis"
   ]
  },
  {
   "cell_type": "code",
   "execution_count": 24,
   "metadata": {},
   "outputs": [],
   "source": [
    "from nltk import ngrams\n",
    "\n",
    "comments_df[\"body_1gram\"] = comments_df.apply(lambda x: [i for i in ngrams(x[\"body\"].lower().split(),1)], axis = 1)\n",
    "comments_df[\"body_2gram\"] = comments_df.apply(lambda x: [i for i in ngrams(x[\"body\"].lower().split(),2)], axis = 1)\n",
    "comments_df[\"body_3gram\"] = comments_df.apply(lambda x: [i for i in ngrams(x[\"body\"].lower().split(),3)], axis = 1)"
   ]
  },
  {
   "cell_type": "code",
   "execution_count": 25,
   "metadata": {},
   "outputs": [],
   "source": [
    "import collections"
   ]
  },
  {
   "cell_type": "code",
   "execution_count": 26,
   "metadata": {},
   "outputs": [
    {
     "name": "stdout",
     "output_type": "stream",
     "text": [
      "(('the',), 3693) \n",
      "\n",
      "(('to',), 2619) \n",
      "\n",
      "(('a',), 2302) \n",
      "\n",
      "(('and',), 1934) \n",
      "\n",
      "(('of',), 1605) \n",
      "\n",
      "(('in',), 1354) \n",
      "\n",
      "(('is',), 1289) \n",
      "\n",
      "(('that',), 1098) \n",
      "\n",
      "(('for',), 860) \n",
      "\n",
      "(('this',), 858) \n",
      "\n"
     ]
    }
   ],
   "source": [
    "counter_1gram = collections.Counter()\n",
    "for i in comments_df[\"body_1gram\"]:\n",
    "    counter_1gram.update(i)\n",
    "    \n",
    "for i in counter_1gram.most_common(10):\n",
    "    print(i,\"\\n\")"
   ]
  },
  {
   "cell_type": "code",
   "execution_count": 27,
   "metadata": {},
   "outputs": [
    {
     "name": "stdout",
     "output_type": "stream",
     "text": [
      "(('in', 'the'), 315) \n",
      "\n",
      "(('of', 'the'), 281) \n",
      "\n",
      "(('to', 'be'), 201) \n",
      "\n",
      "(('to', 'the'), 146) \n",
      "\n",
      "(('is', 'a'), 136) \n",
      "\n",
      "(('on', 'the'), 135) \n",
      "\n",
      "(('for', 'the'), 126) \n",
      "\n",
      "(('going', 'to'), 121) \n",
      "\n",
      "(('this', 'is'), 119) \n",
      "\n",
      "(('in', 'a'), 109) \n",
      "\n"
     ]
    }
   ],
   "source": [
    "counter_2gram = collections.Counter()\n",
    "for i in comments_df[\"body_2gram\"]:\n",
    "    counter_2gram.update(i)\n",
    "\n",
    "for i in counter_2gram.most_common(10):\n",
    "    print(i,\"\\n\")"
   ]
  },
  {
   "cell_type": "code",
   "execution_count": 28,
   "metadata": {},
   "outputs": [
    {
     "name": "stdout",
     "output_type": "stream",
     "text": [
      "(('is', 'going', 'to'), 30) \n",
      "\n",
      "(('to', 'wear', 'a'), 29) \n",
      "\n",
      "(('a', 'lot', 'of'), 28) \n",
      "\n",
      "(('in', 'a', 'free'), 26) \n",
      "\n",
      "(('wear', 'a', 'mask'), 25) \n",
      "\n",
      "(('needs', 'to', 'be'), 25) \n",
      "\n",
      "(('going', 'to', 'be'), 24) \n",
      "\n",
      "(('up', 'in', 'a'), 21) \n",
      "\n",
      "(('the', 'middle', 'of'), 21) \n",
      "\n",
      "(('people', 'in', 'their'), 20) \n",
      "\n"
     ]
    }
   ],
   "source": [
    "counter_3gram = collections.Counter()\n",
    "for i in comments_df[\"body_3gram\"]:\n",
    "    counter_3gram.update(i)\n",
    "    \n",
    "for i in counter_3gram.most_common(10):\n",
    "    print(i,\"\\n\")"
   ]
  },
  {
   "cell_type": "markdown",
   "metadata": {},
   "source": [
    "### Cleaning text for refined ngram analysis"
   ]
  },
  {
   "cell_type": "code",
   "execution_count": 29,
   "metadata": {},
   "outputs": [],
   "source": [
    "from nltk.corpus import stopwords"
   ]
  },
  {
   "cell_type": "code",
   "execution_count": 30,
   "metadata": {},
   "outputs": [],
   "source": [
    "punct = [\":\",\"'\",\".\",\",\",\"!\",\"?\",\")\",\"(\",\"''\",\"&\",\"*\",\"^\",\"$\",\"#\",\"@\",\"~\",\"`\",\"+\",\"/\",\"|\",\"-\",\"--\"]\n",
    "nums = [\"1\",\"2\",\"3\",\"4\",\"5\",\"6\",\"7\",\"8\",\"9\",\"0\"]"
   ]
  },
  {
   "cell_type": "code",
   "execution_count": 31,
   "metadata": {},
   "outputs": [],
   "source": [
    "import re"
   ]
  },
  {
   "cell_type": "code",
   "execution_count": 32,
   "metadata": {},
   "outputs": [],
   "source": [
    "# Remove single characters\n",
    "\n",
    "replace_chars = []\n",
    "for i in comments_df[\"body\"]:\n",
    "    these_chars = \"\"\n",
    "    temp_text = i.lower().replace(\"b'\",\"\").replace('b\"',\"\")\n",
    "    for i in temp_text:\n",
    "        if i in punct:\n",
    "            these_chars += \"\"\n",
    "        elif i in nums:\n",
    "            these_chars += \"\"\n",
    "        else:\n",
    "            these_chars += i\n",
    "    replace_chars.append(these_chars)"
   ]
  },
  {
   "cell_type": "code",
   "execution_count": 33,
   "metadata": {},
   "outputs": [],
   "source": [
    "stopWords = set(stopwords.words('english'))\n",
    "\n",
    "# Addl words to potentially add to stopWords\n",
    "# tho, altho, eventho"
   ]
  },
  {
   "cell_type": "code",
   "execution_count": 34,
   "metadata": {},
   "outputs": [],
   "source": [
    "# Remove whole tokens\n",
    "\n",
    "replace_tokens = []\n",
    "for i in replace_chars:\n",
    "    temp = []\n",
    "    for j in i.split():\n",
    "        if j in stopWords:\n",
    "            pass\n",
    "        else:\n",
    "            temp.append(j)\n",
    "    replace_tokens.append(temp)"
   ]
  },
  {
   "cell_type": "code",
   "execution_count": 35,
   "metadata": {},
   "outputs": [],
   "source": [
    "### Replace tokens with lemmas\n",
    "# May be more general & interesting than actual tokens"
   ]
  },
  {
   "cell_type": "code",
   "execution_count": 36,
   "metadata": {},
   "outputs": [],
   "source": [
    "### Find & remove hyperlinks (?)\n",
    "# They take the form of [text to show](url for link). For instance,\"There was [a similar scene where a flat earther refused to wear a mask](https://www.youtube.com/watch?v=avQe1ZWKoac).\""
   ]
  },
  {
   "cell_type": "markdown",
   "metadata": {},
   "source": [
    "### Ngrams without punctuation, numbers, or stopwords"
   ]
  },
  {
   "cell_type": "code",
   "execution_count": 37,
   "metadata": {},
   "outputs": [
    {
     "name": "stdout",
     "output_type": "stream",
     "text": [
      "(('people',), 492) \n",
      "\n",
      "(('like',), 405) \n",
      "\n",
      "(('get',), 300) \n",
      "\n",
      "(('would',), 259) \n",
      "\n",
      "(('one',), 233) \n",
      "\n",
      "(('time',), 190) \n",
      "\n",
      "(('police',), 190) \n",
      "\n",
      "(('going',), 164) \n",
      "\n",
      "(('know',), 159) \n",
      "\n",
      "(('go',), 156) \n",
      "\n"
     ]
    }
   ],
   "source": [
    "replace_1gram = []\n",
    "for i in replace_tokens:\n",
    "    temp = []\n",
    "    for j in ngrams(i,1):\n",
    "        temp.append(j)\n",
    "    replace_1gram.append(temp)\n",
    "    \n",
    "counter_1gram = collections.Counter()\n",
    "for i in replace_1gram:\n",
    "    counter_1gram.update(i)\n",
    "\n",
    "for i in counter_1gram.most_common(10):\n",
    "    print(i,\"\\n\")"
   ]
  },
  {
   "cell_type": "code",
   "execution_count": 38,
   "metadata": {},
   "outputs": [
    {
     "name": "stdout",
     "output_type": "stream",
     "text": [
      "(('wear', 'mask'), 46) \n",
      "\n",
      "(('every', 'year'), 39) \n",
      "\n",
      "(('wearing', 'mask'), 33) \n",
      "\n",
      "(('free', 'country'), 33) \n",
      "\n",
      "(('sounds', 'like'), 27) \n",
      "\n",
      "(('million', '\\\\n\\\\\\\\'), 26) \n",
      "\n",
      "(('new', 'policy'), 24) \n",
      "\n",
      "(('years', 'ago'), 20) \n",
      "\n",
      "(('looks', 'like'), 19) \n",
      "\n",
      "(('make', 'sure'), 19) \n",
      "\n"
     ]
    }
   ],
   "source": [
    "replace_2gram = []\n",
    "for i in replace_tokens:\n",
    "    temp = []\n",
    "    for j in ngrams(i,2):\n",
    "        temp.append(j)\n",
    "    replace_2gram.append(temp)\n",
    "\n",
    "counter_2gram = collections.Counter()\n",
    "for i in replace_2gram:\n",
    "    counter_2gram.update(i)\n",
    "\n",
    "for i in counter_2gram.most_common(10):\n",
    "    print(i,\"\\n\")"
   ]
  },
  {
   "cell_type": "code",
   "execution_count": 41,
   "metadata": {},
   "outputs": [
    {
     "name": "stdout",
     "output_type": "stream",
     "text": [
      "(('reeeeee', 'reeee', 'reeee'), 18) \n",
      "\n",
      "(('reeee', 'reeee', 'ree'), 18) \n",
      "\n",
      "(('reeee', 'ree', '\\\\nreeeeeeeeee'), 17) \n",
      "\n",
      "(('ree', '\\\\nreeeeeeeeee', 'reeeeee'), 17) \n",
      "\n",
      "(('\\\\nreeeeeeeeee', 'reeeeee', 'reeee'), 17) \n",
      "\n",
      "(('na', 'na', 'na'), 13) \n",
      "\n",
      "(('woke', 'free', 'country'), 8) \n",
      "\n",
      "(('hand', 'said', 'officers'), 6) \n",
      "\n",
      "(('said', 'officers', 'knocked'), 6) \n",
      "\n",
      "(('officers', 'knocked', 'door'), 6) \n",
      "\n"
     ]
    }
   ],
   "source": [
    "replace_3gram = []\n",
    "for i in replace_tokens:\n",
    "    temp = []\n",
    "    for j in ngrams(i,3):\n",
    "        temp.append(j)\n",
    "    replace_3gram.append(temp)\n",
    "\n",
    "counter_3gram = collections.Counter()\n",
    "for i in replace_3gram:\n",
    "    counter_3gram.update(i)\n",
    "\n",
    "for i in counter_3gram.most_common(10):\n",
    "    print(i,\"\\n\")"
   ]
  },
  {
   "cell_type": "code",
   "execution_count": null,
   "metadata": {},
   "outputs": [],
   "source": []
  }
 ],
 "metadata": {
  "kernelspec": {
   "display_name": "Python 3",
   "language": "python",
   "name": "python3"
  },
  "language_info": {
   "codemirror_mode": {
    "name": "ipython",
    "version": 3
   },
   "file_extension": ".py",
   "mimetype": "text/x-python",
   "name": "python",
   "nbconvert_exporter": "python",
   "pygments_lexer": "ipython3",
   "version": "3.6.9"
  }
 },
 "nbformat": 4,
 "nbformat_minor": 4
}
