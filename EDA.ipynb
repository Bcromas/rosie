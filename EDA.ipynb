{
 "cells": [
  {
   "cell_type": "markdown",
   "metadata": {},
   "source": [
    "# Perform EDA on data captured in DB"
   ]
  },
  {
   "cell_type": "code",
   "execution_count": 1,
   "metadata": {},
   "outputs": [],
   "source": [
    "import pandas as pd"
   ]
  },
  {
   "cell_type": "code",
   "execution_count": 2,
   "metadata": {},
   "outputs": [],
   "source": [
    "# comments_df = pd.read_csv(\"data/comments.csv\", index_col = 0, encoding = \"utf_8\")\n",
    "comments_df = pd.read_csv(\"data/2020_5_28_Comments.csv\", index_col = 0, encoding = \"utf_8\")"
   ]
  },
  {
   "cell_type": "code",
   "execution_count": 3,
   "metadata": {},
   "outputs": [
    {
     "data": {
      "text/plain": [
       "(17211, 9)"
      ]
     },
     "execution_count": 3,
     "metadata": {},
     "output_type": "execute_result"
    }
   ],
   "source": [
    "comments_df.shape"
   ]
  },
  {
   "cell_type": "code",
   "execution_count": 4,
   "metadata": {},
   "outputs": [
    {
     "data": {
      "text/html": [
       "<div>\n",
       "<style scoped>\n",
       "    .dataframe tbody tr th:only-of-type {\n",
       "        vertical-align: middle;\n",
       "    }\n",
       "\n",
       "    .dataframe tbody tr th {\n",
       "        vertical-align: top;\n",
       "    }\n",
       "\n",
       "    .dataframe thead th {\n",
       "        text-align: right;\n",
       "    }\n",
       "</style>\n",
       "<table border=\"1\" class=\"dataframe\">\n",
       "  <thead>\n",
       "    <tr style=\"text-align: right;\">\n",
       "      <th></th>\n",
       "      <th>insert_update_ts</th>\n",
       "      <th>id</th>\n",
       "      <th>link_id</th>\n",
       "      <th>subreddit_name</th>\n",
       "      <th>author</th>\n",
       "      <th>body</th>\n",
       "      <th>score</th>\n",
       "      <th>permalink</th>\n",
       "      <th>retrieved</th>\n",
       "    </tr>\n",
       "  </thead>\n",
       "  <tbody>\n",
       "    <tr>\n",
       "      <th>count</th>\n",
       "      <td>17211</td>\n",
       "      <td>17211</td>\n",
       "      <td>17211</td>\n",
       "      <td>17211</td>\n",
       "      <td>17211</td>\n",
       "      <td>17211</td>\n",
       "      <td>17211.000000</td>\n",
       "      <td>17211</td>\n",
       "      <td>17211</td>\n",
       "    </tr>\n",
       "    <tr>\n",
       "      <th>unique</th>\n",
       "      <td>2221</td>\n",
       "      <td>17211</td>\n",
       "      <td>1721</td>\n",
       "      <td>18</td>\n",
       "      <td>12953</td>\n",
       "      <td>16777</td>\n",
       "      <td>NaN</td>\n",
       "      <td>17211</td>\n",
       "      <td>2220</td>\n",
       "    </tr>\n",
       "    <tr>\n",
       "      <th>top</th>\n",
       "      <td>2020-05-28 16:27:16</td>\n",
       "      <td>fs3lna1</td>\n",
       "      <td>t3_gs7gqn</td>\n",
       "      <td>news</td>\n",
       "      <td>AutoModerator</td>\n",
       "      <td>b'###[Meta] Sticky Comment\\n\\n[Rule 2](https:/...</td>\n",
       "      <td>NaN</td>\n",
       "      <td>/r/melbourne/comments/grcjuk/small_business/fr...</td>\n",
       "      <td>2020-05-28 20:27:16</td>\n",
       "    </tr>\n",
       "    <tr>\n",
       "      <th>freq</th>\n",
       "      <td>22</td>\n",
       "      <td>1</td>\n",
       "      <td>1358</td>\n",
       "      <td>3065</td>\n",
       "      <td>322</td>\n",
       "      <td>165</td>\n",
       "      <td>NaN</td>\n",
       "      <td>1</td>\n",
       "      <td>22</td>\n",
       "    </tr>\n",
       "    <tr>\n",
       "      <th>mean</th>\n",
       "      <td>NaN</td>\n",
       "      <td>NaN</td>\n",
       "      <td>NaN</td>\n",
       "      <td>NaN</td>\n",
       "      <td>NaN</td>\n",
       "      <td>NaN</td>\n",
       "      <td>17.660450</td>\n",
       "      <td>NaN</td>\n",
       "      <td>NaN</td>\n",
       "    </tr>\n",
       "    <tr>\n",
       "      <th>std</th>\n",
       "      <td>NaN</td>\n",
       "      <td>NaN</td>\n",
       "      <td>NaN</td>\n",
       "      <td>NaN</td>\n",
       "      <td>NaN</td>\n",
       "      <td>NaN</td>\n",
       "      <td>250.581138</td>\n",
       "      <td>NaN</td>\n",
       "      <td>NaN</td>\n",
       "    </tr>\n",
       "    <tr>\n",
       "      <th>min</th>\n",
       "      <td>NaN</td>\n",
       "      <td>NaN</td>\n",
       "      <td>NaN</td>\n",
       "      <td>NaN</td>\n",
       "      <td>NaN</td>\n",
       "      <td>NaN</td>\n",
       "      <td>-150.000000</td>\n",
       "      <td>NaN</td>\n",
       "      <td>NaN</td>\n",
       "    </tr>\n",
       "    <tr>\n",
       "      <th>25%</th>\n",
       "      <td>NaN</td>\n",
       "      <td>NaN</td>\n",
       "      <td>NaN</td>\n",
       "      <td>NaN</td>\n",
       "      <td>NaN</td>\n",
       "      <td>NaN</td>\n",
       "      <td>1.000000</td>\n",
       "      <td>NaN</td>\n",
       "      <td>NaN</td>\n",
       "    </tr>\n",
       "    <tr>\n",
       "      <th>50%</th>\n",
       "      <td>NaN</td>\n",
       "      <td>NaN</td>\n",
       "      <td>NaN</td>\n",
       "      <td>NaN</td>\n",
       "      <td>NaN</td>\n",
       "      <td>NaN</td>\n",
       "      <td>1.000000</td>\n",
       "      <td>NaN</td>\n",
       "      <td>NaN</td>\n",
       "    </tr>\n",
       "    <tr>\n",
       "      <th>75%</th>\n",
       "      <td>NaN</td>\n",
       "      <td>NaN</td>\n",
       "      <td>NaN</td>\n",
       "      <td>NaN</td>\n",
       "      <td>NaN</td>\n",
       "      <td>NaN</td>\n",
       "      <td>4.000000</td>\n",
       "      <td>NaN</td>\n",
       "      <td>NaN</td>\n",
       "    </tr>\n",
       "    <tr>\n",
       "      <th>max</th>\n",
       "      <td>NaN</td>\n",
       "      <td>NaN</td>\n",
       "      <td>NaN</td>\n",
       "      <td>NaN</td>\n",
       "      <td>NaN</td>\n",
       "      <td>NaN</td>\n",
       "      <td>14163.000000</td>\n",
       "      <td>NaN</td>\n",
       "      <td>NaN</td>\n",
       "    </tr>\n",
       "  </tbody>\n",
       "</table>\n",
       "</div>"
      ],
      "text/plain": [
       "           insert_update_ts       id    link_id subreddit_name         author  \\\n",
       "count                 17211    17211      17211          17211          17211   \n",
       "unique                 2221    17211       1721             18          12953   \n",
       "top     2020-05-28 16:27:16  fs3lna1  t3_gs7gqn           news  AutoModerator   \n",
       "freq                     22        1       1358           3065            322   \n",
       "mean                    NaN      NaN        NaN            NaN            NaN   \n",
       "std                     NaN      NaN        NaN            NaN            NaN   \n",
       "min                     NaN      NaN        NaN            NaN            NaN   \n",
       "25%                     NaN      NaN        NaN            NaN            NaN   \n",
       "50%                     NaN      NaN        NaN            NaN            NaN   \n",
       "75%                     NaN      NaN        NaN            NaN            NaN   \n",
       "max                     NaN      NaN        NaN            NaN            NaN   \n",
       "\n",
       "                                                     body         score  \\\n",
       "count                                               17211  17211.000000   \n",
       "unique                                              16777           NaN   \n",
       "top     b'###[Meta] Sticky Comment\\n\\n[Rule 2](https:/...           NaN   \n",
       "freq                                                  165           NaN   \n",
       "mean                                                  NaN     17.660450   \n",
       "std                                                   NaN    250.581138   \n",
       "min                                                   NaN   -150.000000   \n",
       "25%                                                   NaN      1.000000   \n",
       "50%                                                   NaN      1.000000   \n",
       "75%                                                   NaN      4.000000   \n",
       "max                                                   NaN  14163.000000   \n",
       "\n",
       "                                                permalink            retrieved  \n",
       "count                                               17211                17211  \n",
       "unique                                              17211                 2220  \n",
       "top     /r/melbourne/comments/grcjuk/small_business/fr...  2020-05-28 20:27:16  \n",
       "freq                                                    1                   22  \n",
       "mean                                                  NaN                  NaN  \n",
       "std                                                   NaN                  NaN  \n",
       "min                                                   NaN                  NaN  \n",
       "25%                                                   NaN                  NaN  \n",
       "50%                                                   NaN                  NaN  \n",
       "75%                                                   NaN                  NaN  \n",
       "max                                                   NaN                  NaN  "
      ]
     },
     "execution_count": 4,
     "metadata": {},
     "output_type": "execute_result"
    }
   ],
   "source": [
    "comments_df.describe(include = \"all\")"
   ]
  },
  {
   "cell_type": "markdown",
   "metadata": {},
   "source": [
    "## NaN or NULL values are indicated with body = \"b'[deleted]'\""
   ]
  },
  {
   "cell_type": "code",
   "execution_count": 5,
   "metadata": {},
   "outputs": [
    {
     "data": {
      "text/plain": [
       "insert_update_ts    0\n",
       "id                  0\n",
       "link_id             0\n",
       "subreddit_name      0\n",
       "author              0\n",
       "body                0\n",
       "score               0\n",
       "permalink           0\n",
       "retrieved           0\n",
       "dtype: int64"
      ]
     },
     "execution_count": 5,
     "metadata": {},
     "output_type": "execute_result"
    }
   ],
   "source": [
    "comments_df.isna().sum()"
   ]
  },
  {
   "cell_type": "code",
   "execution_count": 6,
   "metadata": {},
   "outputs": [],
   "source": [
    "deleted_body_index = comments_df[comments_df[\"body\"]== \"b'[deleted]'\"].index"
   ]
  },
  {
   "cell_type": "code",
   "execution_count": 7,
   "metadata": {},
   "outputs": [],
   "source": [
    "no_author_index = comments_df[comments_df[\"author\"]== \"None\"].index"
   ]
  },
  {
   "cell_type": "markdown",
   "metadata": {},
   "source": [
    "> ### Also, accounts that have been deleted or (possibly) suspended in some way show up with \"author\" set to \"None\""
   ]
  },
  {
   "cell_type": "code",
   "execution_count": 8,
   "metadata": {},
   "outputs": [
    {
     "data": {
      "text/plain": [
       "121"
      ]
     },
     "execution_count": 8,
     "metadata": {},
     "output_type": "execute_result"
    }
   ],
   "source": [
    "deleted_body_index.isin(no_author_index).sum()"
   ]
  },
  {
   "cell_type": "markdown",
   "metadata": {},
   "source": [
    "> ### In fact, all of the current records with deleted body content are a subset of the records with no author. In order to cover both possible scenarios we'll filter out records where the body content has been deleted and where the author has been set to \"None\"."
   ]
  },
  {
   "cell_type": "code",
   "execution_count": 9,
   "metadata": {},
   "outputs": [],
   "source": [
    "comments_df = comments_df[(comments_df[\"author\"] != \"None\")&(comments_df[\"body\"] != \"b'[deleted]'\")]"
   ]
  },
  {
   "cell_type": "code",
   "execution_count": 10,
   "metadata": {},
   "outputs": [
    {
     "data": {
      "text/plain": [
       "(17001, 9)"
      ]
     },
     "execution_count": 10,
     "metadata": {},
     "output_type": "execute_result"
    }
   ],
   "source": [
    "comments_df.shape"
   ]
  },
  {
   "cell_type": "markdown",
   "metadata": {},
   "source": [
    "### Most common authors"
   ]
  },
  {
   "cell_type": "code",
   "execution_count": 11,
   "metadata": {},
   "outputs": [
    {
     "data": {
      "text/plain": [
       "AutoModerator      0.0189\n",
       "photography_bot    0.0052\n",
       "TotesMessenger     0.0051\n",
       "autotldr           0.0038\n",
       "kickstand          0.0015\n",
       "darkbluexanadu     0.0011\n",
       "fraqtl             0.0009\n",
       "lazypieceofcrap    0.0009\n",
       "eshbunny           0.0009\n",
       "Darthlentils       0.0009\n",
       "Name: author, dtype: float64"
      ]
     },
     "execution_count": 11,
     "metadata": {},
     "output_type": "execute_result"
    }
   ],
   "source": [
    "round(comments_df[\"author\"].value_counts(normalize = True),4)[:10] # the authors autotldr & AutoModerator are bots :)"
   ]
  },
  {
   "cell_type": "code",
   "execution_count": 12,
   "metadata": {},
   "outputs": [],
   "source": [
    "comments_df = comments_df[\n",
    "    (comments_df[\"author\"] != \"autotldr\")&\n",
    "    (comments_df[\"author\"] != \"AutoModerator\")&\n",
    "    (comments_df[\"author\"] != \"photography_bot\")\n",
    "]"
   ]
  },
  {
   "cell_type": "code",
   "execution_count": 13,
   "metadata": {},
   "outputs": [
    {
     "data": {
      "text/plain": [
       "(16527, 9)"
      ]
     },
     "execution_count": 13,
     "metadata": {},
     "output_type": "execute_result"
    }
   ],
   "source": [
    "comments_df.shape"
   ]
  },
  {
   "cell_type": "markdown",
   "metadata": {},
   "source": [
    "## Add linguistic features"
   ]
  },
  {
   "cell_type": "code",
   "execution_count": 14,
   "metadata": {},
   "outputs": [],
   "source": [
    "import textstat"
   ]
  },
  {
   "cell_type": "code",
   "execution_count": 15,
   "metadata": {},
   "outputs": [],
   "source": [
    "comments_df[\"body_len\"] = comments_df.apply(lambda x: len(x[\"body\"]), axis = 1)"
   ]
  },
  {
   "cell_type": "code",
   "execution_count": 16,
   "metadata": {},
   "outputs": [],
   "source": [
    "comments_df[\"sent_count\"] = comments_df.apply(lambda x: textstat.sentence_count(x[\"body\"]), axis = 1)\n",
    "comments_df[\"flesch_read\"] = comments_df.apply(lambda x: textstat.flesch_reading_ease(x[\"body\"]), axis = 1)\n",
    "comments_df[\"difficult_words\"] = comments_df.apply(lambda x: textstat.difficult_words(x[\"body\"]), axis = 1)\n",
    "comments_df[\"read_index\"] = comments_df.apply(lambda x: textstat.automated_readability_index(x[\"body\"]), axis = 1)\n",
    "comments_df[\"syllable_count\"] = comments_df.apply(lambda x: textstat.syllable_count(x[\"body\"]), axis = 1)\n",
    "comments_df[\"text_standard\"] = comments_df.apply(lambda x: textstat.text_standard(x[\"body\"], float_output = True), axis=1)"
   ]
  },
  {
   "cell_type": "code",
   "execution_count": 17,
   "metadata": {},
   "outputs": [
    {
     "data": {
      "text/html": [
       "<div>\n",
       "<style scoped>\n",
       "    .dataframe tbody tr th:only-of-type {\n",
       "        vertical-align: middle;\n",
       "    }\n",
       "\n",
       "    .dataframe tbody tr th {\n",
       "        vertical-align: top;\n",
       "    }\n",
       "\n",
       "    .dataframe thead th {\n",
       "        text-align: right;\n",
       "    }\n",
       "</style>\n",
       "<table border=\"1\" class=\"dataframe\">\n",
       "  <thead>\n",
       "    <tr style=\"text-align: right;\">\n",
       "      <th></th>\n",
       "      <th>insert_update_ts</th>\n",
       "      <th>id</th>\n",
       "      <th>link_id</th>\n",
       "      <th>subreddit_name</th>\n",
       "      <th>author</th>\n",
       "      <th>body</th>\n",
       "      <th>score</th>\n",
       "      <th>permalink</th>\n",
       "      <th>retrieved</th>\n",
       "      <th>body_len</th>\n",
       "      <th>sent_count</th>\n",
       "      <th>flesch_read</th>\n",
       "      <th>difficult_words</th>\n",
       "      <th>read_index</th>\n",
       "      <th>syllable_count</th>\n",
       "      <th>text_standard</th>\n",
       "    </tr>\n",
       "  </thead>\n",
       "  <tbody>\n",
       "    <tr>\n",
       "      <th>13976</th>\n",
       "      <td>2020-05-28 14:31:56</td>\n",
       "      <td>fs3wcmd</td>\n",
       "      <td>t3_gs7gqn</td>\n",
       "      <td>worldnews</td>\n",
       "      <td>just-my-piercings</td>\n",
       "      <td>b\"Least you wouldn't have to put up with his d...</td>\n",
       "      <td>1</td>\n",
       "      <td>/r/worldnews/comments/gs7gqn/if_us_president_d...</td>\n",
       "      <td>2020-05-28 18:31:56</td>\n",
       "      <td>184</td>\n",
       "      <td>2</td>\n",
       "      <td>88.06</td>\n",
       "      <td>3</td>\n",
       "      <td>8.0</td>\n",
       "      <td>40</td>\n",
       "      <td>8.0</td>\n",
       "    </tr>\n",
       "    <tr>\n",
       "      <th>13733</th>\n",
       "      <td>2020-05-28 14:19:32</td>\n",
       "      <td>fs3uple</td>\n",
       "      <td>t3_gs3wlq</td>\n",
       "      <td>todayilearned</td>\n",
       "      <td>todaysredditaccount5</td>\n",
       "      <td>b'I have been pointing this out on Reddit for ...</td>\n",
       "      <td>1</td>\n",
       "      <td>/r/todayilearned/comments/gs3wlq/til_the_term_...</td>\n",
       "      <td>2020-05-28 18:19:32</td>\n",
       "      <td>133</td>\n",
       "      <td>1</td>\n",
       "      <td>73.51</td>\n",
       "      <td>4</td>\n",
       "      <td>12.6</td>\n",
       "      <td>29</td>\n",
       "      <td>9.0</td>\n",
       "    </tr>\n",
       "    <tr>\n",
       "      <th>942</th>\n",
       "      <td>2020-05-28 13:27:39</td>\n",
       "      <td>fr48yb6</td>\n",
       "      <td>t3_gm8ru2</td>\n",
       "      <td>glasgow</td>\n",
       "      <td>Torran_Toi</td>\n",
       "      <td>b\"Are we talking about storage or utility cupb...</td>\n",
       "      <td>1</td>\n",
       "      <td>/r/glasgow/comments/gm8ru2/tenement_storage_cu...</td>\n",
       "      <td>2020-05-28 17:27:39</td>\n",
       "      <td>495</td>\n",
       "      <td>1</td>\n",
       "      <td>1.11</td>\n",
       "      <td>16</td>\n",
       "      <td>43.9</td>\n",
       "      <td>124</td>\n",
       "      <td>11.0</td>\n",
       "    </tr>\n",
       "  </tbody>\n",
       "</table>\n",
       "</div>"
      ],
      "text/plain": [
       "          insert_update_ts       id    link_id subreddit_name  \\\n",
       "13976  2020-05-28 14:31:56  fs3wcmd  t3_gs7gqn      worldnews   \n",
       "13733  2020-05-28 14:19:32  fs3uple  t3_gs3wlq  todayilearned   \n",
       "942    2020-05-28 13:27:39  fr48yb6  t3_gm8ru2        glasgow   \n",
       "\n",
       "                     author  \\\n",
       "13976     just-my-piercings   \n",
       "13733  todaysredditaccount5   \n",
       "942              Torran_Toi   \n",
       "\n",
       "                                                    body  score  \\\n",
       "13976  b\"Least you wouldn't have to put up with his d...      1   \n",
       "13733  b'I have been pointing this out on Reddit for ...      1   \n",
       "942    b\"Are we talking about storage or utility cupb...      1   \n",
       "\n",
       "                                               permalink            retrieved  \\\n",
       "13976  /r/worldnews/comments/gs7gqn/if_us_president_d...  2020-05-28 18:31:56   \n",
       "13733  /r/todayilearned/comments/gs3wlq/til_the_term_...  2020-05-28 18:19:32   \n",
       "942    /r/glasgow/comments/gm8ru2/tenement_storage_cu...  2020-05-28 17:27:39   \n",
       "\n",
       "       body_len  sent_count  flesch_read  difficult_words  read_index  \\\n",
       "13976       184           2        88.06                3         8.0   \n",
       "13733       133           1        73.51                4        12.6   \n",
       "942         495           1         1.11               16        43.9   \n",
       "\n",
       "       syllable_count  text_standard  \n",
       "13976              40            8.0  \n",
       "13733              29            9.0  \n",
       "942               124           11.0  "
      ]
     },
     "execution_count": 17,
     "metadata": {},
     "output_type": "execute_result"
    }
   ],
   "source": [
    "comments_df.sample(3)"
   ]
  },
  {
   "cell_type": "code",
   "execution_count": 18,
   "metadata": {},
   "outputs": [
    {
     "data": {
      "text/html": [
       "<div>\n",
       "<style scoped>\n",
       "    .dataframe tbody tr th:only-of-type {\n",
       "        vertical-align: middle;\n",
       "    }\n",
       "\n",
       "    .dataframe tbody tr th {\n",
       "        vertical-align: top;\n",
       "    }\n",
       "\n",
       "    .dataframe thead th {\n",
       "        text-align: right;\n",
       "    }\n",
       "</style>\n",
       "<table border=\"1\" class=\"dataframe\">\n",
       "  <thead>\n",
       "    <tr style=\"text-align: right;\">\n",
       "      <th></th>\n",
       "      <th>score</th>\n",
       "      <th>body_len</th>\n",
       "      <th>sent_count</th>\n",
       "      <th>flesch_read</th>\n",
       "      <th>difficult_words</th>\n",
       "      <th>read_index</th>\n",
       "      <th>syllable_count</th>\n",
       "      <th>text_standard</th>\n",
       "    </tr>\n",
       "    <tr>\n",
       "      <th>subreddit_name</th>\n",
       "      <th></th>\n",
       "      <th></th>\n",
       "      <th></th>\n",
       "      <th></th>\n",
       "      <th></th>\n",
       "      <th></th>\n",
       "      <th></th>\n",
       "      <th></th>\n",
       "    </tr>\n",
       "  </thead>\n",
       "  <tbody>\n",
       "    <tr>\n",
       "      <th>AskCulinary</th>\n",
       "      <td>6.889961</td>\n",
       "      <td>312.922780</td>\n",
       "      <td>2.700772</td>\n",
       "      <td>66.190849</td>\n",
       "      <td>7.312741</td>\n",
       "      <td>14.423166</td>\n",
       "      <td>73.158301</td>\n",
       "      <td>9.003861</td>\n",
       "    </tr>\n",
       "    <tr>\n",
       "      <th>AskHistorians</th>\n",
       "      <td>4.800000</td>\n",
       "      <td>1805.777778</td>\n",
       "      <td>8.244444</td>\n",
       "      <td>24.037111</td>\n",
       "      <td>55.666667</td>\n",
       "      <td>28.100000</td>\n",
       "      <td>441.133333</td>\n",
       "      <td>16.688889</td>\n",
       "    </tr>\n",
       "    <tr>\n",
       "      <th>FalseFlagWatch</th>\n",
       "      <td>2.107317</td>\n",
       "      <td>274.795122</td>\n",
       "      <td>1.858537</td>\n",
       "      <td>37.524244</td>\n",
       "      <td>7.287805</td>\n",
       "      <td>24.248293</td>\n",
       "      <td>59.956098</td>\n",
       "      <td>9.995122</td>\n",
       "    </tr>\n",
       "    <tr>\n",
       "      <th>MRActivism</th>\n",
       "      <td>1.520000</td>\n",
       "      <td>199.000000</td>\n",
       "      <td>1.600000</td>\n",
       "      <td>44.988800</td>\n",
       "      <td>5.520000</td>\n",
       "      <td>17.240000</td>\n",
       "      <td>47.120000</td>\n",
       "      <td>9.440000</td>\n",
       "    </tr>\n",
       "    <tr>\n",
       "      <th>MensRights</th>\n",
       "      <td>9.867021</td>\n",
       "      <td>215.602394</td>\n",
       "      <td>1.805851</td>\n",
       "      <td>52.857633</td>\n",
       "      <td>6.208777</td>\n",
       "      <td>16.768883</td>\n",
       "      <td>51.123670</td>\n",
       "      <td>9.500000</td>\n",
       "    </tr>\n",
       "    <tr>\n",
       "      <th>MilitaryConspiracy</th>\n",
       "      <td>1.477477</td>\n",
       "      <td>642.594595</td>\n",
       "      <td>2.747748</td>\n",
       "      <td>29.206667</td>\n",
       "      <td>18.873874</td>\n",
       "      <td>25.794595</td>\n",
       "      <td>140.603604</td>\n",
       "      <td>11.459459</td>\n",
       "    </tr>\n",
       "    <tr>\n",
       "      <th>PedoGate</th>\n",
       "      <td>7.196629</td>\n",
       "      <td>181.891386</td>\n",
       "      <td>1.756554</td>\n",
       "      <td>48.022940</td>\n",
       "      <td>4.876404</td>\n",
       "      <td>21.218165</td>\n",
       "      <td>41.779026</td>\n",
       "      <td>10.069288</td>\n",
       "    </tr>\n",
       "    <tr>\n",
       "      <th>conspiracy</th>\n",
       "      <td>2.723380</td>\n",
       "      <td>244.674769</td>\n",
       "      <td>2.035880</td>\n",
       "      <td>54.847581</td>\n",
       "      <td>7.260417</td>\n",
       "      <td>16.616898</td>\n",
       "      <td>57.318287</td>\n",
       "      <td>9.863426</td>\n",
       "    </tr>\n",
       "    <tr>\n",
       "      <th>glasgow</th>\n",
       "      <td>7.293680</td>\n",
       "      <td>219.125155</td>\n",
       "      <td>2.009913</td>\n",
       "      <td>67.573259</td>\n",
       "      <td>5.395291</td>\n",
       "      <td>14.000000</td>\n",
       "      <td>50.913259</td>\n",
       "      <td>8.345725</td>\n",
       "    </tr>\n",
       "    <tr>\n",
       "      <th>howto</th>\n",
       "      <td>7.085502</td>\n",
       "      <td>153.665428</td>\n",
       "      <td>1.758364</td>\n",
       "      <td>60.724349</td>\n",
       "      <td>3.531599</td>\n",
       "      <td>15.957993</td>\n",
       "      <td>35.219331</td>\n",
       "      <td>7.550186</td>\n",
       "    </tr>\n",
       "    <tr>\n",
       "      <th>melbourne</th>\n",
       "      <td>6.402581</td>\n",
       "      <td>185.649032</td>\n",
       "      <td>1.825806</td>\n",
       "      <td>62.416413</td>\n",
       "      <td>4.921290</td>\n",
       "      <td>16.119613</td>\n",
       "      <td>43.569032</td>\n",
       "      <td>8.580645</td>\n",
       "    </tr>\n",
       "    <tr>\n",
       "      <th>news</th>\n",
       "      <td>46.327483</td>\n",
       "      <td>181.652980</td>\n",
       "      <td>1.763907</td>\n",
       "      <td>66.513570</td>\n",
       "      <td>4.885762</td>\n",
       "      <td>13.112517</td>\n",
       "      <td>42.732119</td>\n",
       "      <td>8.425166</td>\n",
       "    </tr>\n",
       "    <tr>\n",
       "      <th>photography</th>\n",
       "      <td>6.908639</td>\n",
       "      <td>397.359851</td>\n",
       "      <td>3.018024</td>\n",
       "      <td>19.374071</td>\n",
       "      <td>10.757613</td>\n",
       "      <td>27.915662</td>\n",
       "      <td>95.612181</td>\n",
       "      <td>14.991920</td>\n",
       "    </tr>\n",
       "    <tr>\n",
       "      <th>politicalfactchecking</th>\n",
       "      <td>7.783133</td>\n",
       "      <td>569.308434</td>\n",
       "      <td>3.175904</td>\n",
       "      <td>15.705229</td>\n",
       "      <td>16.426506</td>\n",
       "      <td>31.248434</td>\n",
       "      <td>134.168675</td>\n",
       "      <td>13.607229</td>\n",
       "    </tr>\n",
       "    <tr>\n",
       "      <th>skeptic</th>\n",
       "      <td>8.738000</td>\n",
       "      <td>266.072000</td>\n",
       "      <td>1.960000</td>\n",
       "      <td>41.440700</td>\n",
       "      <td>8.902000</td>\n",
       "      <td>20.517600</td>\n",
       "      <td>64.438000</td>\n",
       "      <td>12.036000</td>\n",
       "    </tr>\n",
       "    <tr>\n",
       "      <th>todayilearned</th>\n",
       "      <td>27.380890</td>\n",
       "      <td>139.357984</td>\n",
       "      <td>1.496073</td>\n",
       "      <td>66.890916</td>\n",
       "      <td>3.915576</td>\n",
       "      <td>13.281675</td>\n",
       "      <td>32.768979</td>\n",
       "      <td>7.883508</td>\n",
       "    </tr>\n",
       "    <tr>\n",
       "      <th>travel</th>\n",
       "      <td>6.533333</td>\n",
       "      <td>278.294309</td>\n",
       "      <td>2.674390</td>\n",
       "      <td>63.016581</td>\n",
       "      <td>7.183740</td>\n",
       "      <td>14.714390</td>\n",
       "      <td>65.517073</td>\n",
       "      <td>8.384959</td>\n",
       "    </tr>\n",
       "    <tr>\n",
       "      <th>worldnews</th>\n",
       "      <td>26.800000</td>\n",
       "      <td>161.217703</td>\n",
       "      <td>1.610526</td>\n",
       "      <td>65.916727</td>\n",
       "      <td>4.866507</td>\n",
       "      <td>12.625598</td>\n",
       "      <td>38.217703</td>\n",
       "      <td>8.573206</td>\n",
       "    </tr>\n",
       "  </tbody>\n",
       "</table>\n",
       "</div>"
      ],
      "text/plain": [
       "                           score     body_len  sent_count  flesch_read  \\\n",
       "subreddit_name                                                           \n",
       "AskCulinary             6.889961   312.922780    2.700772    66.190849   \n",
       "AskHistorians           4.800000  1805.777778    8.244444    24.037111   \n",
       "FalseFlagWatch          2.107317   274.795122    1.858537    37.524244   \n",
       "MRActivism              1.520000   199.000000    1.600000    44.988800   \n",
       "MensRights              9.867021   215.602394    1.805851    52.857633   \n",
       "MilitaryConspiracy      1.477477   642.594595    2.747748    29.206667   \n",
       "PedoGate                7.196629   181.891386    1.756554    48.022940   \n",
       "conspiracy              2.723380   244.674769    2.035880    54.847581   \n",
       "glasgow                 7.293680   219.125155    2.009913    67.573259   \n",
       "howto                   7.085502   153.665428    1.758364    60.724349   \n",
       "melbourne               6.402581   185.649032    1.825806    62.416413   \n",
       "news                   46.327483   181.652980    1.763907    66.513570   \n",
       "photography             6.908639   397.359851    3.018024    19.374071   \n",
       "politicalfactchecking   7.783133   569.308434    3.175904    15.705229   \n",
       "skeptic                 8.738000   266.072000    1.960000    41.440700   \n",
       "todayilearned          27.380890   139.357984    1.496073    66.890916   \n",
       "travel                  6.533333   278.294309    2.674390    63.016581   \n",
       "worldnews              26.800000   161.217703    1.610526    65.916727   \n",
       "\n",
       "                       difficult_words  read_index  syllable_count  \\\n",
       "subreddit_name                                                       \n",
       "AskCulinary                   7.312741   14.423166       73.158301   \n",
       "AskHistorians                55.666667   28.100000      441.133333   \n",
       "FalseFlagWatch                7.287805   24.248293       59.956098   \n",
       "MRActivism                    5.520000   17.240000       47.120000   \n",
       "MensRights                    6.208777   16.768883       51.123670   \n",
       "MilitaryConspiracy           18.873874   25.794595      140.603604   \n",
       "PedoGate                      4.876404   21.218165       41.779026   \n",
       "conspiracy                    7.260417   16.616898       57.318287   \n",
       "glasgow                       5.395291   14.000000       50.913259   \n",
       "howto                         3.531599   15.957993       35.219331   \n",
       "melbourne                     4.921290   16.119613       43.569032   \n",
       "news                          4.885762   13.112517       42.732119   \n",
       "photography                  10.757613   27.915662       95.612181   \n",
       "politicalfactchecking        16.426506   31.248434      134.168675   \n",
       "skeptic                       8.902000   20.517600       64.438000   \n",
       "todayilearned                 3.915576   13.281675       32.768979   \n",
       "travel                        7.183740   14.714390       65.517073   \n",
       "worldnews                     4.866507   12.625598       38.217703   \n",
       "\n",
       "                       text_standard  \n",
       "subreddit_name                        \n",
       "AskCulinary                 9.003861  \n",
       "AskHistorians              16.688889  \n",
       "FalseFlagWatch              9.995122  \n",
       "MRActivism                  9.440000  \n",
       "MensRights                  9.500000  \n",
       "MilitaryConspiracy         11.459459  \n",
       "PedoGate                   10.069288  \n",
       "conspiracy                  9.863426  \n",
       "glasgow                     8.345725  \n",
       "howto                       7.550186  \n",
       "melbourne                   8.580645  \n",
       "news                        8.425166  \n",
       "photography                14.991920  \n",
       "politicalfactchecking      13.607229  \n",
       "skeptic                    12.036000  \n",
       "todayilearned               7.883508  \n",
       "travel                      8.384959  \n",
       "worldnews                   8.573206  "
      ]
     },
     "execution_count": 18,
     "metadata": {},
     "output_type": "execute_result"
    }
   ],
   "source": [
    "comments_df.groupby(\"subreddit_name\").mean()"
   ]
  },
  {
   "cell_type": "code",
   "execution_count": 19,
   "metadata": {},
   "outputs": [
    {
     "data": {
      "text/html": [
       "<div>\n",
       "<style scoped>\n",
       "    .dataframe tbody tr th:only-of-type {\n",
       "        vertical-align: middle;\n",
       "    }\n",
       "\n",
       "    .dataframe tbody tr th {\n",
       "        vertical-align: top;\n",
       "    }\n",
       "\n",
       "    .dataframe thead th {\n",
       "        text-align: right;\n",
       "    }\n",
       "</style>\n",
       "<table border=\"1\" class=\"dataframe\">\n",
       "  <thead>\n",
       "    <tr style=\"text-align: right;\">\n",
       "      <th></th>\n",
       "      <th>score</th>\n",
       "      <th>body_len</th>\n",
       "      <th>sent_count</th>\n",
       "      <th>flesch_read</th>\n",
       "      <th>difficult_words</th>\n",
       "      <th>read_index</th>\n",
       "      <th>syllable_count</th>\n",
       "      <th>text_standard</th>\n",
       "    </tr>\n",
       "  </thead>\n",
       "  <tbody>\n",
       "    <tr>\n",
       "      <th>count</th>\n",
       "      <td>16527.000000</td>\n",
       "      <td>16527.000000</td>\n",
       "      <td>16527.000000</td>\n",
       "      <td>16527.000000</td>\n",
       "      <td>16527.000000</td>\n",
       "      <td>16527.000000</td>\n",
       "      <td>16527.000000</td>\n",
       "      <td>16527.000000</td>\n",
       "    </tr>\n",
       "    <tr>\n",
       "      <th>mean</th>\n",
       "      <td>18.353906</td>\n",
       "      <td>242.054275</td>\n",
       "      <td>2.104012</td>\n",
       "      <td>56.497023</td>\n",
       "      <td>6.646215</td>\n",
       "      <td>16.579186</td>\n",
       "      <td>57.078478</td>\n",
       "      <td>9.514915</td>\n",
       "    </tr>\n",
       "    <tr>\n",
       "      <th>std</th>\n",
       "      <td>255.685527</td>\n",
       "      <td>388.644866</td>\n",
       "      <td>2.343546</td>\n",
       "      <td>411.558465</td>\n",
       "      <td>10.970884</td>\n",
       "      <td>122.706893</td>\n",
       "      <td>93.138375</td>\n",
       "      <td>57.530510</td>\n",
       "    </tr>\n",
       "    <tr>\n",
       "      <th>min</th>\n",
       "      <td>-150.000000</td>\n",
       "      <td>4.000000</td>\n",
       "      <td>1.000000</td>\n",
       "      <td>-51400.190000</td>\n",
       "      <td>0.000000</td>\n",
       "      <td>-4.300000</td>\n",
       "      <td>1.000000</td>\n",
       "      <td>-3.000000</td>\n",
       "    </tr>\n",
       "    <tr>\n",
       "      <th>25%</th>\n",
       "      <td>1.000000</td>\n",
       "      <td>62.000000</td>\n",
       "      <td>1.000000</td>\n",
       "      <td>52.870000</td>\n",
       "      <td>1.000000</td>\n",
       "      <td>6.550000</td>\n",
       "      <td>14.000000</td>\n",
       "      <td>5.000000</td>\n",
       "    </tr>\n",
       "    <tr>\n",
       "      <th>50%</th>\n",
       "      <td>1.000000</td>\n",
       "      <td>126.000000</td>\n",
       "      <td>1.000000</td>\n",
       "      <td>71.240000</td>\n",
       "      <td>3.000000</td>\n",
       "      <td>10.300000</td>\n",
       "      <td>29.000000</td>\n",
       "      <td>7.000000</td>\n",
       "    </tr>\n",
       "    <tr>\n",
       "      <th>75%</th>\n",
       "      <td>4.000000</td>\n",
       "      <td>271.000000</td>\n",
       "      <td>2.000000</td>\n",
       "      <td>85.690000</td>\n",
       "      <td>8.000000</td>\n",
       "      <td>16.200000</td>\n",
       "      <td>64.000000</td>\n",
       "      <td>11.000000</td>\n",
       "    </tr>\n",
       "    <tr>\n",
       "      <th>max</th>\n",
       "      <td>14163.000000</td>\n",
       "      <td>9581.000000</td>\n",
       "      <td>75.000000</td>\n",
       "      <td>121.220000</td>\n",
       "      <td>324.000000</td>\n",
       "      <td>15150.000000</td>\n",
       "      <td>2508.000000</td>\n",
       "      <td>7183.000000</td>\n",
       "    </tr>\n",
       "  </tbody>\n",
       "</table>\n",
       "</div>"
      ],
      "text/plain": [
       "              score      body_len    sent_count   flesch_read  \\\n",
       "count  16527.000000  16527.000000  16527.000000  16527.000000   \n",
       "mean      18.353906    242.054275      2.104012     56.497023   \n",
       "std      255.685527    388.644866      2.343546    411.558465   \n",
       "min     -150.000000      4.000000      1.000000 -51400.190000   \n",
       "25%        1.000000     62.000000      1.000000     52.870000   \n",
       "50%        1.000000    126.000000      1.000000     71.240000   \n",
       "75%        4.000000    271.000000      2.000000     85.690000   \n",
       "max    14163.000000   9581.000000     75.000000    121.220000   \n",
       "\n",
       "       difficult_words    read_index  syllable_count  text_standard  \n",
       "count     16527.000000  16527.000000    16527.000000   16527.000000  \n",
       "mean          6.646215     16.579186       57.078478       9.514915  \n",
       "std          10.970884    122.706893       93.138375      57.530510  \n",
       "min           0.000000     -4.300000        1.000000      -3.000000  \n",
       "25%           1.000000      6.550000       14.000000       5.000000  \n",
       "50%           3.000000     10.300000       29.000000       7.000000  \n",
       "75%           8.000000     16.200000       64.000000      11.000000  \n",
       "max         324.000000  15150.000000     2508.000000    7183.000000  "
      ]
     },
     "execution_count": 19,
     "metadata": {},
     "output_type": "execute_result"
    }
   ],
   "source": [
    "comments_df.describe()"
   ]
  },
  {
   "cell_type": "markdown",
   "metadata": {},
   "source": [
    "### Distributions for Score"
   ]
  },
  {
   "cell_type": "code",
   "execution_count": 20,
   "metadata": {},
   "outputs": [],
   "source": [
    "import matplotlib.pyplot as plt"
   ]
  },
  {
   "cell_type": "code",
   "execution_count": 21,
   "metadata": {},
   "outputs": [
    {
     "data": {
      "image/png": "[encoded data removed]",
      "text/plain": [
       "<Figure size 432x288 with 1 Axes>"
      ]
     },
     "metadata": {
      "needs_background": "light"
     },
     "output_type": "display_data"
    }
   ],
   "source": [
    "# boxlot for all Subreddits in crawl\n",
    "\n",
    "plt.boxplot(x = comments_df[\"score\"], showfliers = False);\n",
    "plt.tick_params(labelbottom = False, bottom = False)\n",
    "plt.ylabel(\"Score\");\n",
    "plt.title(label = \"Scores Awarded to All Comments in Crawl\");"
   ]
  },
  {
   "cell_type": "code",
   "execution_count": 22,
   "metadata": {},
   "outputs": [],
   "source": [
    "# np.mean(comments_df[\"score\"]), np.median(comments_df[\"score\"]), np.min(comments_df[\"score\"]), np.max(comments_df[\"score\"]), np.max(comments_df[\"score\"])-np.min(comments_df[\"score\"])\n",
    "# q75, q25 = np.percentile(comments_df[\"score\"], [75 ,25])\n",
    "# q75 - q25"
   ]
  },
  {
   "cell_type": "code",
   "execution_count": 23,
   "metadata": {},
   "outputs": [],
   "source": [
    "import math"
   ]
  },
  {
   "cell_type": "code",
   "execution_count": 24,
   "metadata": {},
   "outputs": [
    {
     "data": {
      "image/png": "[encoded data removed]",
      "text/plain": [
       "<Figure size 2160x1080 with 18 Axes>"
      ]
     },
     "metadata": {
      "needs_background": "light"
     },
     "output_type": "display_data"
    }
   ],
   "source": [
    "# multiple boxplots for individual Subreddits in crawl\n",
    "\n",
    "subreddit_list = comments_df[\"subreddit_name\"].unique()\n",
    "\n",
    "fig, axs = plt.subplots(nrows = 3, ncols = 6, sharex = True, sharey = True, figsize = (30,15));\n",
    "fig.suptitle(\"Scores Awarded to Comments in Crawl\", fontsize = 16);\n",
    "counter = 0\n",
    "for row in axs:\n",
    "    for subplot in row:\n",
    "        try:\n",
    "            temp_df = comments_df[comments_df[\"subreddit_name\"] == subreddit_list[counter]]\n",
    "            subplot.boxplot(x = temp_df[\"score\"], showfliers = False, vert = False, showmeans = True)\n",
    "            subplot.tick_params(labelbottom = True, bottom = True, labelleft = False, left = False, direction = \"inout\")\n",
    "            subplot.set_title(subreddit_list[counter])\n",
    "            counter += 1\n",
    "        except Exception as e:\n",
    "            continue"
   ]
  },
  {
   "cell_type": "markdown",
   "metadata": {},
   "source": [
    "> ### Comments have a mean score of 37 and a range of 10,213 (from -244 to 9969). However, what we see in the boxplot above may give a better sense of the location of the score data. We can see the median is 2 and the IQR is 4 (75th percentile = 5, 25th percentile = 1)."
   ]
  },
  {
   "cell_type": "markdown",
   "metadata": {},
   "source": [
    "### Distributions for body_len"
   ]
  },
  {
   "cell_type": "code",
   "execution_count": 25,
   "metadata": {},
   "outputs": [],
   "source": [
    "import numpy as np"
   ]
  },
  {
   "cell_type": "code",
   "execution_count": 26,
   "metadata": {},
   "outputs": [
    {
     "data": {
      "image/png": "[encoded data removed]",
      "text/plain": [
       "<Figure size 432x288 with 1 Axes>"
      ]
     },
     "metadata": {
      "needs_background": "light"
     },
     "output_type": "display_data"
    }
   ],
   "source": [
    "plt.hist(x = comments_df[\"score\"], bins = 50, range = (-10, 50), color = \"#8800ff\");\n",
    "plt.xlabel(\"Score\")\n",
    "plt.ylabel(\"Frequency Count in Crawl\")\n",
    "plt.axvline(x = np.mean(comments_df[\"score\"]), color = \"#00ff88\")\n",
    "plt.axvline(x = np.median(comments_df[\"score\"]), color = \"#ff8800\") # orange is median\n",
    "plt.title(label = \"Scores Awarded to Comments in Crawl\");\n",
    "plt.annotate(s = \"<-- mean\", xy = (np.mean(comments_df[\"score\"])+1,600));\n",
    "plt.annotate(s = \"<-- median\", xy = (np.median(comments_df[\"score\"])+1,600));"
   ]
  },
  {
   "cell_type": "markdown",
   "metadata": {},
   "source": [
    "> ### The scores awarded to the comments in the crawl are right-skewed with a median value of 2.0 and a mean value of 37. The maximum score in the crawl was 9969."
   ]
  },
  {
   "cell_type": "code",
   "execution_count": 27,
   "metadata": {},
   "outputs": [
    {
     "data": {
      "image/png": "[encoded data removed]",
      "text/plain": [
       "<Figure size 2160x1080 with 18 Axes>"
      ]
     },
     "metadata": {
      "needs_background": "light"
     },
     "output_type": "display_data"
    }
   ],
   "source": [
    "# all hists for scores\n",
    "\n",
    "fig, axs = plt.subplots(nrows = 3, ncols = 6, sharex = True, sharey = True, figsize = (30,15));\n",
    "fig.suptitle(\"Scores Awarded to Comments in Crawl\", fontsize = 16);\n",
    "counter = 0\n",
    "for row in axs:\n",
    "    for subplot in row:\n",
    "        try:\n",
    "            temp_df = comments_df[comments_df[\"subreddit_name\"] == subreddit_list[counter]]\n",
    "            subplot.hist(x = temp_df[\"score\"], bins = 50, range = (-10, 50))\n",
    "            subplot.tick_params(labelbottom = True, bottom = True, labelleft = True, left = True, direction = \"inout\")\n",
    "            subplot.set_title(subreddit_list[counter])\n",
    "            counter += 1\n",
    "        except Exception as e:\n",
    "            continue"
   ]
  },
  {
   "cell_type": "code",
   "execution_count": 28,
   "metadata": {},
   "outputs": [
    {
     "data": {
      "image/png": "[encoded data removed]",
      "text/plain": [
       "<Figure size 432x288 with 1 Axes>"
      ]
     },
     "metadata": {
      "needs_background": "light"
     },
     "output_type": "display_data"
    }
   ],
   "source": [
    "plt.boxplot(x = comments_df[\"body_len\"], showfliers = False, vert = False, showmeans = True);\n",
    "plt.tick_params(labelbottom = True, bottom = True, labelleft = False, left = False, direction = \"inout\")\n",
    "plt.title(label = \"Length of Comments in Crawl\");"
   ]
  },
  {
   "cell_type": "code",
   "execution_count": 29,
   "metadata": {},
   "outputs": [],
   "source": [
    "# np.mean(comments_df[\"body_len\"]), np.median(comments_df[\"body_len\"]), np.min(comments_df[\"body_len\"]), np.max(comments_df[\"body_len\"]), np.max(comments_df[\"body_len\"])-np.min(comments_df[\"body_len\"])"
   ]
  },
  {
   "cell_type": "code",
   "execution_count": 30,
   "metadata": {},
   "outputs": [],
   "source": [
    "# q75, q25 = np.percentile(comments_df[\"body_len\"], [75 ,25])\n",
    "# q75 - q25"
   ]
  },
  {
   "cell_type": "markdown",
   "metadata": {},
   "source": [
    "> ### Length of comments have a mean of 164 and a range of 5503 (6 to 5509). Similar to above, the boxplot may give a better sense of the location of the length of the comment data. The median is 100 and the IQR is ~133 (75th percentile = 188, 25th percentile = 55)."
   ]
  },
  {
   "cell_type": "code",
   "execution_count": 48,
   "metadata": {},
   "outputs": [
    {
     "data": {
      "image/png": "[encoded data removed]",
      "text/plain": [
       "<Figure size 432x288 with 1 Axes>"
      ]
     },
     "metadata": {
      "needs_background": "light"
     },
     "output_type": "display_data"
    }
   ],
   "source": [
    "plt.hist(x = comments_df[\"body_len\"], bins = 50, range = (0, 400), color = \"#8800ff\");\n",
    "plt.xlabel(\"Length\")\n",
    "plt.ylabel(\"Frequency Count in Crawl\")\n",
    "plt.axvline(x = np.mean(comments_df[\"body_len\"]), color = \"#00ff88\")\n",
    "plt.axvline(x = np.median(comments_df[\"body_len\"]), color = \"#ff8800\") # orange is median\n",
    "plt.title(label = \"Length of Comments in Crawl\");\n",
    "plt.annotate(s = \"<-- mean\", xy = (np.mean(comments_df[\"body_len\"])+1,550));\n",
    "plt.annotate(s = \"<-- median\", xy = (np.median(comments_df[\"body_len\"])+1,600));"
   ]
  },
  {
   "cell_type": "markdown",
   "metadata": {},
   "source": [
    "### Ngram analysis"
   ]
  },
  {
   "cell_type": "code",
   "execution_count": 32,
   "metadata": {},
   "outputs": [],
   "source": [
    "from nltk import ngrams\n",
    "\n",
    "comments_df[\"body_1gram\"] = comments_df.apply(lambda x: [i for i in ngrams(x[\"body\"].lower().split(),1)], axis = 1)\n",
    "comments_df[\"body_2gram\"] = comments_df.apply(lambda x: [i for i in ngrams(x[\"body\"].lower().split(),2)], axis = 1)\n",
    "comments_df[\"body_3gram\"] = comments_df.apply(lambda x: [i for i in ngrams(x[\"body\"].lower().split(),3)], axis = 1)"
   ]
  },
  {
   "cell_type": "code",
   "execution_count": 33,
   "metadata": {},
   "outputs": [],
   "source": [
    "import collections"
   ]
  },
  {
   "cell_type": "code",
   "execution_count": 34,
   "metadata": {},
   "outputs": [
    {
     "name": "stdout",
     "output_type": "stream",
     "text": [
      "(('the',), 26792) \n",
      "\n",
      "(('to',), 18051) \n",
      "\n",
      "(('a',), 16684) \n",
      "\n",
      "(('and',), 15215) \n",
      "\n",
      "(('of',), 12234) \n",
      "\n",
      "(('in',), 9350) \n",
      "\n",
      "(('i',), 9183) \n",
      "\n",
      "(('is',), 8865) \n",
      "\n",
      "(('that',), 6976) \n",
      "\n",
      "(('it',), 6417) \n",
      "\n"
     ]
    }
   ],
   "source": [
    "counter_1gram = collections.Counter()\n",
    "for i in comments_df[\"body_1gram\"]:\n",
    "    counter_1gram.update(i)\n",
    "    \n",
    "for i in counter_1gram.most_common(10):\n",
    "    print(i,\"\\n\")"
   ]
  },
  {
   "cell_type": "code",
   "execution_count": 35,
   "metadata": {},
   "outputs": [
    {
     "name": "stdout",
     "output_type": "stream",
     "text": [
      "(('of', 'the'), 2448) \n",
      "\n",
      "(('in', 'the'), 2353) \n",
      "\n",
      "(('to', 'be'), 1153) \n",
      "\n",
      "(('to', 'the'), 1062) \n",
      "\n",
      "(('on', 'the'), 1052) \n",
      "\n",
      "(('is', 'a'), 961) \n",
      "\n",
      "(('and', 'the'), 842) \n",
      "\n",
      "(('for', 'the'), 771) \n",
      "\n",
      "(('if', 'you'), 740) \n",
      "\n",
      "(('in', 'a'), 702) \n",
      "\n"
     ]
    }
   ],
   "source": [
    "counter_2gram = collections.Counter()\n",
    "for i in comments_df[\"body_2gram\"]:\n",
    "    counter_2gram.update(i)\n",
    "\n",
    "for i in counter_2gram.most_common(10):\n",
    "    print(i,\"\\n\")"
   ]
  },
  {
   "cell_type": "code",
   "execution_count": 36,
   "metadata": {},
   "outputs": [
    {
     "name": "stdout",
     "output_type": "stream",
     "text": [
      "(('a', 'lot', 'of'), 397) \n",
      "\n",
      "(('one', 'of', 'the'), 205) \n",
      "\n",
      "(('be', 'able', 'to'), 167) \n",
      "\n",
      "(('you', 'want', 'to'), 128) \n",
      "\n",
      "(('any', 'of', 'the'), 113) \n",
      "\n",
      "(('to', 'be', 'a'), 111) \n",
      "\n",
      "(('out', 'of', 'the'), 110) \n",
      "\n",
      "(('i', 'want', 'to'), 102) \n",
      "\n",
      "(('going', 'to', 'be'), 98) \n",
      "\n",
      "(('some', 'of', 'the'), 96) \n",
      "\n"
     ]
    }
   ],
   "source": [
    "counter_3gram = collections.Counter()\n",
    "for i in comments_df[\"body_3gram\"]:\n",
    "    counter_3gram.update(i)\n",
    "    \n",
    "for i in counter_3gram.most_common(10):\n",
    "    print(i,\"\\n\")"
   ]
  },
  {
   "cell_type": "markdown",
   "metadata": {},
   "source": [
    "### Cleaning text for refined ngram analysis"
   ]
  },
  {
   "cell_type": "code",
   "execution_count": 37,
   "metadata": {},
   "outputs": [],
   "source": [
    "from nltk.corpus import stopwords"
   ]
  },
  {
   "cell_type": "code",
   "execution_count": 38,
   "metadata": {},
   "outputs": [],
   "source": [
    "punct = [\":\",\"'\",\".\",\",\",\"!\",\"?\",\")\",\"(\",\"''\",\"&\",\"*\",\"^\",\"$\",\"#\",\"@\",\"~\",\"`\",\"+\",\"/\",\"|\",\"-\",\"--\"]\n",
    "nums = [\"1\",\"2\",\"3\",\"4\",\"5\",\"6\",\"7\",\"8\",\"9\",\"0\"]"
   ]
  },
  {
   "cell_type": "code",
   "execution_count": 39,
   "metadata": {},
   "outputs": [],
   "source": [
    "import re"
   ]
  },
  {
   "cell_type": "code",
   "execution_count": 40,
   "metadata": {},
   "outputs": [],
   "source": [
    "# Remove single characters\n",
    "\n",
    "replace_chars = []\n",
    "for i in comments_df[\"body\"]:\n",
    "    these_chars = \"\"\n",
    "    temp_text = i.lower().replace(\"b'\",\"\").replace('b\"',\"\")\n",
    "    for i in temp_text:\n",
    "        if i in punct:\n",
    "            these_chars += \"\"\n",
    "        elif i in nums:\n",
    "            these_chars += \"\"\n",
    "        else:\n",
    "            these_chars += i\n",
    "    replace_chars.append(these_chars)"
   ]
  },
  {
   "cell_type": "code",
   "execution_count": 41,
   "metadata": {},
   "outputs": [],
   "source": [
    "stopWords = set(stopwords.words('english'))\n",
    "\n",
    "# Addl words to potentially add to stopWords\n",
    "# tho, altho, eventho"
   ]
  },
  {
   "cell_type": "code",
   "execution_count": 42,
   "metadata": {},
   "outputs": [],
   "source": [
    "# Remove whole tokens\n",
    "\n",
    "replace_tokens = []\n",
    "for i in replace_chars:\n",
    "    temp = []\n",
    "    for j in i.split():\n",
    "        if j in stopWords:\n",
    "            pass\n",
    "        else:\n",
    "            temp.append(j)\n",
    "    replace_tokens.append(temp)"
   ]
  },
  {
   "cell_type": "code",
   "execution_count": 43,
   "metadata": {},
   "outputs": [],
   "source": [
    "### Replace tokens with lemmas\n",
    "# May be more general & interesting than actual tokens"
   ]
  },
  {
   "cell_type": "code",
   "execution_count": 44,
   "metadata": {},
   "outputs": [],
   "source": [
    "### Find & remove hyperlinks (?)\n",
    "# They take the form of [text to show](url for link). For instance,\"There was [a similar scene where a flat earther refused to wear a mask](https://www.youtube.com/watch?v=avQe1ZWKoac).\""
   ]
  },
  {
   "cell_type": "markdown",
   "metadata": {},
   "source": [
    "### Ngrams without punctuation, numbers, or stopwords"
   ]
  },
  {
   "cell_type": "code",
   "execution_count": 45,
   "metadata": {},
   "outputs": [
    {
     "name": "stdout",
     "output_type": "stream",
     "text": [
      "(('like',), 2674) \n",
      "\n",
      "(('people',), 2370) \n",
      "\n",
      "(('would',), 2175) \n",
      "\n",
      "(('get',), 1867) \n",
      "\n",
      "(('one',), 1703) \n",
      "\n",
      "(('also',), 1253) \n",
      "\n",
      "(('time',), 1234) \n",
      "\n",
      "(('think',), 1212) \n",
      "\n",
      "(('really',), 1210) \n",
      "\n",
      "(('good',), 1147) \n",
      "\n"
     ]
    }
   ],
   "source": [
    "replace_1gram = []\n",
    "for i in replace_tokens:\n",
    "    temp = []\n",
    "    for j in ngrams(i,1):\n",
    "        temp.append(j)\n",
    "    replace_1gram.append(temp)\n",
    "    \n",
    "counter_1gram = collections.Counter()\n",
    "for i in replace_1gram:\n",
    "    counter_1gram.update(i)\n",
    "\n",
    "for i in counter_1gram.most_common(10):\n",
    "    print(i,\"\\n\")"
   ]
  },
  {
   "cell_type": "code",
   "execution_count": 46,
   "metadata": {},
   "outputs": [
    {
     "name": "stdout",
     "output_type": "stream",
     "text": [
      "(('years', 'ago'), 147) \n",
      "\n",
      "(('social', 'media'), 138) \n",
      "\n",
      "(('sounds', 'like'), 121) \n",
      "\n",
      "(('looks', 'like'), 120) \n",
      "\n",
      "(('dont', 'know'), 117) \n",
      "\n",
      "(('go', 'back'), 112) \n",
      "\n",
      "(('make', 'sure'), 108) \n",
      "\n",
      "(('seems', 'like'), 100) \n",
      "\n",
      "(('hong', 'kong'), 96) \n",
      "\n",
      "(('dont', 'think'), 92) \n",
      "\n"
     ]
    }
   ],
   "source": [
    "replace_2gram = []\n",
    "for i in replace_tokens:\n",
    "    temp = []\n",
    "    for j in ngrams(i,2):\n",
    "        temp.append(j)\n",
    "    replace_2gram.append(temp)\n",
    "\n",
    "counter_2gram = collections.Counter()\n",
    "for i in replace_2gram:\n",
    "    counter_2gram.update(i)\n",
    "\n",
    "for i in counter_2gram.most_common(10):\n",
    "    print(i,\"\\n\")"
   ]
  },
  {
   "cell_type": "code",
   "execution_count": 47,
   "metadata": {},
   "outputs": [
    {
     "name": "stdout",
     "output_type": "stream",
     "text": [
      "(('bot', 'bleep', 'bloop'), 88) \n",
      "\n",
      "(('bleep', 'bloop', 'someone'), 87) \n",
      "\n",
      "(('bloop', 'someone', 'linked'), 87) \n",
      "\n",
      "(('someone', 'linked', 'thread'), 87) \n",
      "\n",
      "(('linked', 'thread', 'another'), 87) \n",
      "\n",
      "(('thread', 'another', 'place'), 87) \n",
      "\n",
      "(('another', 'place', 'reddit\\\\n\\\\n'), 87) \n",
      "\n",
      "(('follow', 'links', 'please'), 87) \n",
      "\n",
      "(('links', 'please', 'respect'), 87) \n",
      "\n",
      "(('please', 'respect', 'rules'), 87) \n",
      "\n"
     ]
    }
   ],
   "source": [
    "replace_3gram = []\n",
    "for i in replace_tokens:\n",
    "    temp = []\n",
    "    for j in ngrams(i,3):\n",
    "        temp.append(j)\n",
    "    replace_3gram.append(temp)\n",
    "\n",
    "counter_3gram = collections.Counter()\n",
    "for i in replace_3gram:\n",
    "    counter_3gram.update(i)\n",
    "\n",
    "for i in counter_3gram.most_common(10):\n",
    "    print(i,\"\\n\")"
   ]
  },
  {
   "cell_type": "code",
   "execution_count": null,
   "metadata": {},
   "outputs": [],
   "source": []
  }
 ],
 "metadata": {
  "kernelspec": {
   "display_name": "Python 3",
   "language": "python",
   "name": "python3"
  },
  "language_info": {
   "codemirror_mode": {
    "name": "ipython",
    "version": 3
   },
   "file_extension": ".py",
   "mimetype": "text/x-python",
   "name": "python",
   "nbconvert_exporter": "python",
   "pygments_lexer": "ipython3",
   "version": "3.6.9"
  }
 },
 "nbformat": 4,
 "nbformat_minor": 4
}
